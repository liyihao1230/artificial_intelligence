{
 "cells": [
  {
   "cell_type": "code",
   "execution_count": 1,
   "metadata": {},
   "outputs": [],
   "source": [
    "import sys\n",
    "import os"
   ]
  },
  {
   "cell_type": "code",
   "execution_count": 2,
   "metadata": {},
   "outputs": [],
   "source": [
    "%matplotlib inline\n",
    "from matplotlib import pyplot as plt"
   ]
  },
  {
   "cell_type": "code",
   "execution_count": 3,
   "metadata": {},
   "outputs": [],
   "source": [
    "plt.rcParams['figure.figsize'] = (20, 10)"
   ]
  },
  {
   "cell_type": "code",
   "execution_count": 4,
   "metadata": {},
   "outputs": [
    {
     "name": "stderr",
     "output_type": "stream",
     "text": [
      "/Users/yihaoli/opt/anaconda3/lib/python3.7/site-packages/tensorflow/python/framework/dtypes.py:516: FutureWarning: Passing (type, 1) or '1type' as a synonym of type is deprecated; in a future version of numpy, it will be understood as (type, (1,)) / '(1,)type'.\n",
      "  _np_qint8 = np.dtype([(\"qint8\", np.int8, 1)])\n",
      "/Users/yihaoli/opt/anaconda3/lib/python3.7/site-packages/tensorflow/python/framework/dtypes.py:517: FutureWarning: Passing (type, 1) or '1type' as a synonym of type is deprecated; in a future version of numpy, it will be understood as (type, (1,)) / '(1,)type'.\n",
      "  _np_quint8 = np.dtype([(\"quint8\", np.uint8, 1)])\n",
      "/Users/yihaoli/opt/anaconda3/lib/python3.7/site-packages/tensorflow/python/framework/dtypes.py:518: FutureWarning: Passing (type, 1) or '1type' as a synonym of type is deprecated; in a future version of numpy, it will be understood as (type, (1,)) / '(1,)type'.\n",
      "  _np_qint16 = np.dtype([(\"qint16\", np.int16, 1)])\n",
      "/Users/yihaoli/opt/anaconda3/lib/python3.7/site-packages/tensorflow/python/framework/dtypes.py:519: FutureWarning: Passing (type, 1) or '1type' as a synonym of type is deprecated; in a future version of numpy, it will be understood as (type, (1,)) / '(1,)type'.\n",
      "  _np_quint16 = np.dtype([(\"quint16\", np.uint16, 1)])\n",
      "/Users/yihaoli/opt/anaconda3/lib/python3.7/site-packages/tensorflow/python/framework/dtypes.py:520: FutureWarning: Passing (type, 1) or '1type' as a synonym of type is deprecated; in a future version of numpy, it will be understood as (type, (1,)) / '(1,)type'.\n",
      "  _np_qint32 = np.dtype([(\"qint32\", np.int32, 1)])\n",
      "/Users/yihaoli/opt/anaconda3/lib/python3.7/site-packages/tensorflow/python/framework/dtypes.py:525: FutureWarning: Passing (type, 1) or '1type' as a synonym of type is deprecated; in a future version of numpy, it will be understood as (type, (1,)) / '(1,)type'.\n",
      "  np_resource = np.dtype([(\"resource\", np.ubyte, 1)])\n",
      "/Users/yihaoli/opt/anaconda3/lib/python3.7/site-packages/tensorboard/compat/tensorflow_stub/dtypes.py:541: FutureWarning: Passing (type, 1) or '1type' as a synonym of type is deprecated; in a future version of numpy, it will be understood as (type, (1,)) / '(1,)type'.\n",
      "  _np_qint8 = np.dtype([(\"qint8\", np.int8, 1)])\n",
      "/Users/yihaoli/opt/anaconda3/lib/python3.7/site-packages/tensorboard/compat/tensorflow_stub/dtypes.py:542: FutureWarning: Passing (type, 1) or '1type' as a synonym of type is deprecated; in a future version of numpy, it will be understood as (type, (1,)) / '(1,)type'.\n",
      "  _np_quint8 = np.dtype([(\"quint8\", np.uint8, 1)])\n",
      "/Users/yihaoli/opt/anaconda3/lib/python3.7/site-packages/tensorboard/compat/tensorflow_stub/dtypes.py:543: FutureWarning: Passing (type, 1) or '1type' as a synonym of type is deprecated; in a future version of numpy, it will be understood as (type, (1,)) / '(1,)type'.\n",
      "  _np_qint16 = np.dtype([(\"qint16\", np.int16, 1)])\n",
      "/Users/yihaoli/opt/anaconda3/lib/python3.7/site-packages/tensorboard/compat/tensorflow_stub/dtypes.py:544: FutureWarning: Passing (type, 1) or '1type' as a synonym of type is deprecated; in a future version of numpy, it will be understood as (type, (1,)) / '(1,)type'.\n",
      "  _np_quint16 = np.dtype([(\"quint16\", np.uint16, 1)])\n",
      "/Users/yihaoli/opt/anaconda3/lib/python3.7/site-packages/tensorboard/compat/tensorflow_stub/dtypes.py:545: FutureWarning: Passing (type, 1) or '1type' as a synonym of type is deprecated; in a future version of numpy, it will be understood as (type, (1,)) / '(1,)type'.\n",
      "  _np_qint32 = np.dtype([(\"qint32\", np.int32, 1)])\n",
      "/Users/yihaoli/opt/anaconda3/lib/python3.7/site-packages/tensorboard/compat/tensorflow_stub/dtypes.py:550: FutureWarning: Passing (type, 1) or '1type' as a synonym of type is deprecated; in a future version of numpy, it will be understood as (type, (1,)) / '(1,)type'.\n",
      "  np_resource = np.dtype([(\"resource\", np.ubyte, 1)])\n"
     ]
    }
   ],
   "source": [
    "import shutil\n",
    "import time\n",
    "import cv2\n",
    "import numpy as np\n",
    "import tensorflow as tf\n",
    "from nets import model_train as model\n",
    "from utils.rpn_msr.proposal_layer import proposal_layer\n",
    "from utils.text_connector.detectors import TextDetector"
   ]
  },
  {
   "cell_type": "code",
   "execution_count": 5,
   "metadata": {},
   "outputs": [
    {
     "name": "stdout",
     "output_type": "stream",
     "text": [
      "/Users/yihaoli/Desktop/cnocr-ctpn_crnn/new_ctpn\n"
     ]
    }
   ],
   "source": [
    "print(os.getcwd())"
   ]
  },
  {
   "cell_type": "code",
   "execution_count": 6,
   "metadata": {},
   "outputs": [],
   "source": [
    "from main import fengzhuang_ctpn"
   ]
  },
  {
   "cell_type": "code",
   "execution_count": 12,
   "metadata": {},
   "outputs": [],
   "source": [
    "imagePath = '/Users/yihaoli/Desktop/img_transfer/image/img_1_0.png'"
   ]
  },
  {
   "cell_type": "code",
   "execution_count": 13,
   "metadata": {},
   "outputs": [],
   "source": [
    "image = cv2.imread(imagePath)[:, :, ::-1]"
   ]
  },
  {
   "cell_type": "code",
   "execution_count": 14,
   "metadata": {},
   "outputs": [],
   "source": [
    "#tf.reset_default_graph()"
   ]
  },
  {
   "cell_type": "code",
   "execution_count": 15,
   "metadata": {},
   "outputs": [
    {
     "name": "stdout",
     "output_type": "stream",
     "text": [
      "WARNING:tensorflow:Entity <bound method Conv.call of <tensorflow.python.layers.convolutional.Conv2D object at 0x148bb25d0>> could not be transformed and will be executed as-is. Please report this to the AutgoGraph team. When filing the bug, set the verbosity to 10 (on Linux, `export AUTOGRAPH_VERBOSITY=10`) and attach the full output. Cause: converting <bound method Conv.call of <tensorflow.python.layers.convolutional.Conv2D object at 0x148bb25d0>>: AssertionError: Bad argument number for Name: 3, expecting 4\n",
      "WARNING: Entity <bound method Conv.call of <tensorflow.python.layers.convolutional.Conv2D object at 0x148bb25d0>> could not be transformed and will be executed as-is. Please report this to the AutgoGraph team. When filing the bug, set the verbosity to 10 (on Linux, `export AUTOGRAPH_VERBOSITY=10`) and attach the full output. Cause: converting <bound method Conv.call of <tensorflow.python.layers.convolutional.Conv2D object at 0x148bb25d0>>: AssertionError: Bad argument number for Name: 3, expecting 4\n",
      "WARNING:tensorflow:Entity <bound method Conv.call of <tensorflow.python.layers.convolutional.Conv2D object at 0x148bb2d90>> could not be transformed and will be executed as-is. Please report this to the AutgoGraph team. When filing the bug, set the verbosity to 10 (on Linux, `export AUTOGRAPH_VERBOSITY=10`) and attach the full output. Cause: converting <bound method Conv.call of <tensorflow.python.layers.convolutional.Conv2D object at 0x148bb2d90>>: AssertionError: Bad argument number for Name: 3, expecting 4\n",
      "WARNING: Entity <bound method Conv.call of <tensorflow.python.layers.convolutional.Conv2D object at 0x148bb2d90>> could not be transformed and will be executed as-is. Please report this to the AutgoGraph team. When filing the bug, set the verbosity to 10 (on Linux, `export AUTOGRAPH_VERBOSITY=10`) and attach the full output. Cause: converting <bound method Conv.call of <tensorflow.python.layers.convolutional.Conv2D object at 0x148bb2d90>>: AssertionError: Bad argument number for Name: 3, expecting 4\n",
      "WARNING:tensorflow:Entity <bound method Pooling2D.call of <tensorflow.python.layers.pooling.MaxPooling2D object at 0x146c8bd90>> could not be transformed and will be executed as-is. Please report this to the AutgoGraph team. When filing the bug, set the verbosity to 10 (on Linux, `export AUTOGRAPH_VERBOSITY=10`) and attach the full output. Cause: converting <bound method Pooling2D.call of <tensorflow.python.layers.pooling.MaxPooling2D object at 0x146c8bd90>>: AssertionError: Bad argument number for Name: 3, expecting 4\n",
      "WARNING: Entity <bound method Pooling2D.call of <tensorflow.python.layers.pooling.MaxPooling2D object at 0x146c8bd90>> could not be transformed and will be executed as-is. Please report this to the AutgoGraph team. When filing the bug, set the verbosity to 10 (on Linux, `export AUTOGRAPH_VERBOSITY=10`) and attach the full output. Cause: converting <bound method Pooling2D.call of <tensorflow.python.layers.pooling.MaxPooling2D object at 0x146c8bd90>>: AssertionError: Bad argument number for Name: 3, expecting 4\n",
      "WARNING:tensorflow:Entity <bound method Conv.call of <tensorflow.python.layers.convolutional.Conv2D object at 0x148bb2150>> could not be transformed and will be executed as-is. Please report this to the AutgoGraph team. When filing the bug, set the verbosity to 10 (on Linux, `export AUTOGRAPH_VERBOSITY=10`) and attach the full output. Cause: converting <bound method Conv.call of <tensorflow.python.layers.convolutional.Conv2D object at 0x148bb2150>>: AssertionError: Bad argument number for Name: 3, expecting 4\n",
      "WARNING: Entity <bound method Conv.call of <tensorflow.python.layers.convolutional.Conv2D object at 0x148bb2150>> could not be transformed and will be executed as-is. Please report this to the AutgoGraph team. When filing the bug, set the verbosity to 10 (on Linux, `export AUTOGRAPH_VERBOSITY=10`) and attach the full output. Cause: converting <bound method Conv.call of <tensorflow.python.layers.convolutional.Conv2D object at 0x148bb2150>>: AssertionError: Bad argument number for Name: 3, expecting 4\n",
      "WARNING:tensorflow:Entity <bound method Conv.call of <tensorflow.python.layers.convolutional.Conv2D object at 0x148bb2c50>> could not be transformed and will be executed as-is. Please report this to the AutgoGraph team. When filing the bug, set the verbosity to 10 (on Linux, `export AUTOGRAPH_VERBOSITY=10`) and attach the full output. Cause: converting <bound method Conv.call of <tensorflow.python.layers.convolutional.Conv2D object at 0x148bb2c50>>: AssertionError: Bad argument number for Name: 3, expecting 4\n",
      "WARNING: Entity <bound method Conv.call of <tensorflow.python.layers.convolutional.Conv2D object at 0x148bb2c50>> could not be transformed and will be executed as-is. Please report this to the AutgoGraph team. When filing the bug, set the verbosity to 10 (on Linux, `export AUTOGRAPH_VERBOSITY=10`) and attach the full output. Cause: converting <bound method Conv.call of <tensorflow.python.layers.convolutional.Conv2D object at 0x148bb2c50>>: AssertionError: Bad argument number for Name: 3, expecting 4\n",
      "WARNING:tensorflow:Entity <bound method Pooling2D.call of <tensorflow.python.layers.pooling.MaxPooling2D object at 0x141a68e90>> could not be transformed and will be executed as-is. Please report this to the AutgoGraph team. When filing the bug, set the verbosity to 10 (on Linux, `export AUTOGRAPH_VERBOSITY=10`) and attach the full output. Cause: converting <bound method Pooling2D.call of <tensorflow.python.layers.pooling.MaxPooling2D object at 0x141a68e90>>: AssertionError: Bad argument number for Name: 3, expecting 4\n",
      "WARNING: Entity <bound method Pooling2D.call of <tensorflow.python.layers.pooling.MaxPooling2D object at 0x141a68e90>> could not be transformed and will be executed as-is. Please report this to the AutgoGraph team. When filing the bug, set the verbosity to 10 (on Linux, `export AUTOGRAPH_VERBOSITY=10`) and attach the full output. Cause: converting <bound method Pooling2D.call of <tensorflow.python.layers.pooling.MaxPooling2D object at 0x141a68e90>>: AssertionError: Bad argument number for Name: 3, expecting 4\n",
      "WARNING:tensorflow:Entity <bound method Conv.call of <tensorflow.python.layers.convolutional.Conv2D object at 0x141960490>> could not be transformed and will be executed as-is. Please report this to the AutgoGraph team. When filing the bug, set the verbosity to 10 (on Linux, `export AUTOGRAPH_VERBOSITY=10`) and attach the full output. Cause: converting <bound method Conv.call of <tensorflow.python.layers.convolutional.Conv2D object at 0x141960490>>: AssertionError: Bad argument number for Name: 3, expecting 4\n",
      "WARNING: Entity <bound method Conv.call of <tensorflow.python.layers.convolutional.Conv2D object at 0x141960490>> could not be transformed and will be executed as-is. Please report this to the AutgoGraph team. When filing the bug, set the verbosity to 10 (on Linux, `export AUTOGRAPH_VERBOSITY=10`) and attach the full output. Cause: converting <bound method Conv.call of <tensorflow.python.layers.convolutional.Conv2D object at 0x141960490>>: AssertionError: Bad argument number for Name: 3, expecting 4\n",
      "WARNING:tensorflow:Entity <bound method Conv.call of <tensorflow.python.layers.convolutional.Conv2D object at 0x1408cb310>> could not be transformed and will be executed as-is. Please report this to the AutgoGraph team. When filing the bug, set the verbosity to 10 (on Linux, `export AUTOGRAPH_VERBOSITY=10`) and attach the full output. Cause: converting <bound method Conv.call of <tensorflow.python.layers.convolutional.Conv2D object at 0x1408cb310>>: AssertionError: Bad argument number for Name: 3, expecting 4\n",
      "WARNING: Entity <bound method Conv.call of <tensorflow.python.layers.convolutional.Conv2D object at 0x1408cb310>> could not be transformed and will be executed as-is. Please report this to the AutgoGraph team. When filing the bug, set the verbosity to 10 (on Linux, `export AUTOGRAPH_VERBOSITY=10`) and attach the full output. Cause: converting <bound method Conv.call of <tensorflow.python.layers.convolutional.Conv2D object at 0x1408cb310>>: AssertionError: Bad argument number for Name: 3, expecting 4\n"
     ]
    },
    {
     "name": "stdout",
     "output_type": "stream",
     "text": [
      "WARNING:tensorflow:Entity <bound method Conv.call of <tensorflow.python.layers.convolutional.Conv2D object at 0x148bb27d0>> could not be transformed and will be executed as-is. Please report this to the AutgoGraph team. When filing the bug, set the verbosity to 10 (on Linux, `export AUTOGRAPH_VERBOSITY=10`) and attach the full output. Cause: converting <bound method Conv.call of <tensorflow.python.layers.convolutional.Conv2D object at 0x148bb27d0>>: AssertionError: Bad argument number for Name: 3, expecting 4\n",
      "WARNING: Entity <bound method Conv.call of <tensorflow.python.layers.convolutional.Conv2D object at 0x148bb27d0>> could not be transformed and will be executed as-is. Please report this to the AutgoGraph team. When filing the bug, set the verbosity to 10 (on Linux, `export AUTOGRAPH_VERBOSITY=10`) and attach the full output. Cause: converting <bound method Conv.call of <tensorflow.python.layers.convolutional.Conv2D object at 0x148bb27d0>>: AssertionError: Bad argument number for Name: 3, expecting 4\n",
      "WARNING:tensorflow:Entity <bound method Pooling2D.call of <tensorflow.python.layers.pooling.MaxPooling2D object at 0x148bb2a10>> could not be transformed and will be executed as-is. Please report this to the AutgoGraph team. When filing the bug, set the verbosity to 10 (on Linux, `export AUTOGRAPH_VERBOSITY=10`) and attach the full output. Cause: converting <bound method Pooling2D.call of <tensorflow.python.layers.pooling.MaxPooling2D object at 0x148bb2a10>>: AssertionError: Bad argument number for Name: 3, expecting 4\n",
      "WARNING: Entity <bound method Pooling2D.call of <tensorflow.python.layers.pooling.MaxPooling2D object at 0x148bb2a10>> could not be transformed and will be executed as-is. Please report this to the AutgoGraph team. When filing the bug, set the verbosity to 10 (on Linux, `export AUTOGRAPH_VERBOSITY=10`) and attach the full output. Cause: converting <bound method Pooling2D.call of <tensorflow.python.layers.pooling.MaxPooling2D object at 0x148bb2a10>>: AssertionError: Bad argument number for Name: 3, expecting 4\n",
      "WARNING:tensorflow:Entity <bound method Conv.call of <tensorflow.python.layers.convolutional.Conv2D object at 0x141960650>> could not be transformed and will be executed as-is. Please report this to the AutgoGraph team. When filing the bug, set the verbosity to 10 (on Linux, `export AUTOGRAPH_VERBOSITY=10`) and attach the full output. Cause: converting <bound method Conv.call of <tensorflow.python.layers.convolutional.Conv2D object at 0x141960650>>: AssertionError: Bad argument number for Name: 3, expecting 4\n",
      "WARNING: Entity <bound method Conv.call of <tensorflow.python.layers.convolutional.Conv2D object at 0x141960650>> could not be transformed and will be executed as-is. Please report this to the AutgoGraph team. When filing the bug, set the verbosity to 10 (on Linux, `export AUTOGRAPH_VERBOSITY=10`) and attach the full output. Cause: converting <bound method Conv.call of <tensorflow.python.layers.convolutional.Conv2D object at 0x141960650>>: AssertionError: Bad argument number for Name: 3, expecting 4\n",
      "WARNING:tensorflow:Entity <bound method Conv.call of <tensorflow.python.layers.convolutional.Conv2D object at 0x141a5c250>> could not be transformed and will be executed as-is. Please report this to the AutgoGraph team. When filing the bug, set the verbosity to 10 (on Linux, `export AUTOGRAPH_VERBOSITY=10`) and attach the full output. Cause: converting <bound method Conv.call of <tensorflow.python.layers.convolutional.Conv2D object at 0x141a5c250>>: AssertionError: Bad argument number for Name: 3, expecting 4\n",
      "WARNING: Entity <bound method Conv.call of <tensorflow.python.layers.convolutional.Conv2D object at 0x141a5c250>> could not be transformed and will be executed as-is. Please report this to the AutgoGraph team. When filing the bug, set the verbosity to 10 (on Linux, `export AUTOGRAPH_VERBOSITY=10`) and attach the full output. Cause: converting <bound method Conv.call of <tensorflow.python.layers.convolutional.Conv2D object at 0x141a5c250>>: AssertionError: Bad argument number for Name: 3, expecting 4\n",
      "WARNING:tensorflow:Entity <bound method Conv.call of <tensorflow.python.layers.convolutional.Conv2D object at 0x141a5c950>> could not be transformed and will be executed as-is. Please report this to the AutgoGraph team. When filing the bug, set the verbosity to 10 (on Linux, `export AUTOGRAPH_VERBOSITY=10`) and attach the full output. Cause: converting <bound method Conv.call of <tensorflow.python.layers.convolutional.Conv2D object at 0x141a5c950>>: AssertionError: Bad argument number for Name: 3, expecting 4\n",
      "WARNING: Entity <bound method Conv.call of <tensorflow.python.layers.convolutional.Conv2D object at 0x141a5c950>> could not be transformed and will be executed as-is. Please report this to the AutgoGraph team. When filing the bug, set the verbosity to 10 (on Linux, `export AUTOGRAPH_VERBOSITY=10`) and attach the full output. Cause: converting <bound method Conv.call of <tensorflow.python.layers.convolutional.Conv2D object at 0x141a5c950>>: AssertionError: Bad argument number for Name: 3, expecting 4\n",
      "WARNING:tensorflow:Entity <bound method Pooling2D.call of <tensorflow.python.layers.pooling.MaxPooling2D object at 0x141884a10>> could not be transformed and will be executed as-is. Please report this to the AutgoGraph team. When filing the bug, set the verbosity to 10 (on Linux, `export AUTOGRAPH_VERBOSITY=10`) and attach the full output. Cause: converting <bound method Pooling2D.call of <tensorflow.python.layers.pooling.MaxPooling2D object at 0x141884a10>>: AssertionError: Bad argument number for Name: 3, expecting 4\n",
      "WARNING: Entity <bound method Pooling2D.call of <tensorflow.python.layers.pooling.MaxPooling2D object at 0x141884a10>> could not be transformed and will be executed as-is. Please report this to the AutgoGraph team. When filing the bug, set the verbosity to 10 (on Linux, `export AUTOGRAPH_VERBOSITY=10`) and attach the full output. Cause: converting <bound method Pooling2D.call of <tensorflow.python.layers.pooling.MaxPooling2D object at 0x141884a10>>: AssertionError: Bad argument number for Name: 3, expecting 4\n",
      "WARNING:tensorflow:Entity <bound method Conv.call of <tensorflow.python.layers.convolutional.Conv2D object at 0x141bc9210>> could not be transformed and will be executed as-is. Please report this to the AutgoGraph team. When filing the bug, set the verbosity to 10 (on Linux, `export AUTOGRAPH_VERBOSITY=10`) and attach the full output. Cause: converting <bound method Conv.call of <tensorflow.python.layers.convolutional.Conv2D object at 0x141bc9210>>: AssertionError: Bad argument number for Name: 3, expecting 4\n",
      "WARNING: Entity <bound method Conv.call of <tensorflow.python.layers.convolutional.Conv2D object at 0x141bc9210>> could not be transformed and will be executed as-is. Please report this to the AutgoGraph team. When filing the bug, set the verbosity to 10 (on Linux, `export AUTOGRAPH_VERBOSITY=10`) and attach the full output. Cause: converting <bound method Conv.call of <tensorflow.python.layers.convolutional.Conv2D object at 0x141bc9210>>: AssertionError: Bad argument number for Name: 3, expecting 4\n",
      "WARNING:tensorflow:Entity <bound method Conv.call of <tensorflow.python.layers.convolutional.Conv2D object at 0x141960a50>> could not be transformed and will be executed as-is. Please report this to the AutgoGraph team. When filing the bug, set the verbosity to 10 (on Linux, `export AUTOGRAPH_VERBOSITY=10`) and attach the full output. Cause: converting <bound method Conv.call of <tensorflow.python.layers.convolutional.Conv2D object at 0x141960a50>>: AssertionError: Bad argument number for Name: 3, expecting 4\n",
      "WARNING: Entity <bound method Conv.call of <tensorflow.python.layers.convolutional.Conv2D object at 0x141960a50>> could not be transformed and will be executed as-is. Please report this to the AutgoGraph team. When filing the bug, set the verbosity to 10 (on Linux, `export AUTOGRAPH_VERBOSITY=10`) and attach the full output. Cause: converting <bound method Conv.call of <tensorflow.python.layers.convolutional.Conv2D object at 0x141960a50>>: AssertionError: Bad argument number for Name: 3, expecting 4\n"
     ]
    },
    {
     "name": "stdout",
     "output_type": "stream",
     "text": [
      "WARNING:tensorflow:Entity <bound method Conv.call of <tensorflow.python.layers.convolutional.Conv2D object at 0x141960990>> could not be transformed and will be executed as-is. Please report this to the AutgoGraph team. When filing the bug, set the verbosity to 10 (on Linux, `export AUTOGRAPH_VERBOSITY=10`) and attach the full output. Cause: converting <bound method Conv.call of <tensorflow.python.layers.convolutional.Conv2D object at 0x141960990>>: AssertionError: Bad argument number for Name: 3, expecting 4\n",
      "WARNING: Entity <bound method Conv.call of <tensorflow.python.layers.convolutional.Conv2D object at 0x141960990>> could not be transformed and will be executed as-is. Please report this to the AutgoGraph team. When filing the bug, set the verbosity to 10 (on Linux, `export AUTOGRAPH_VERBOSITY=10`) and attach the full output. Cause: converting <bound method Conv.call of <tensorflow.python.layers.convolutional.Conv2D object at 0x141960990>>: AssertionError: Bad argument number for Name: 3, expecting 4\n",
      "WARNING:tensorflow:Entity <bound method Conv.call of <tensorflow.python.layers.convolutional.Conv2D object at 0x1420bc1d0>> could not be transformed and will be executed as-is. Please report this to the AutgoGraph team. When filing the bug, set the verbosity to 10 (on Linux, `export AUTOGRAPH_VERBOSITY=10`) and attach the full output. Cause: converting <bound method Conv.call of <tensorflow.python.layers.convolutional.Conv2D object at 0x1420bc1d0>>: AssertionError: Bad argument number for Name: 3, expecting 4\n",
      "WARNING: Entity <bound method Conv.call of <tensorflow.python.layers.convolutional.Conv2D object at 0x1420bc1d0>> could not be transformed and will be executed as-is. Please report this to the AutgoGraph team. When filing the bug, set the verbosity to 10 (on Linux, `export AUTOGRAPH_VERBOSITY=10`) and attach the full output. Cause: converting <bound method Conv.call of <tensorflow.python.layers.convolutional.Conv2D object at 0x1420bc1d0>>: AssertionError: Bad argument number for Name: 3, expecting 4\n",
      "WARNING:tensorflow:Entity <bound method LSTMCell.call of <tensorflow.python.ops.rnn_cell_impl.LSTMCell object at 0x142440d10>> could not be transformed and will be executed as-is. Please report this to the AutgoGraph team. When filing the bug, set the verbosity to 10 (on Linux, `export AUTOGRAPH_VERBOSITY=10`) and attach the full output. Cause: converting <bound method LSTMCell.call of <tensorflow.python.ops.rnn_cell_impl.LSTMCell object at 0x142440d10>>: AttributeError: module 'gast' has no attribute 'Num'\n",
      "WARNING: Entity <bound method LSTMCell.call of <tensorflow.python.ops.rnn_cell_impl.LSTMCell object at 0x142440d10>> could not be transformed and will be executed as-is. Please report this to the AutgoGraph team. When filing the bug, set the verbosity to 10 (on Linux, `export AUTOGRAPH_VERBOSITY=10`) and attach the full output. Cause: converting <bound method LSTMCell.call of <tensorflow.python.ops.rnn_cell_impl.LSTMCell object at 0x142440d10>>: AttributeError: module 'gast' has no attribute 'Num'\n",
      "WARNING:tensorflow:Entity <bound method LSTMCell.call of <tensorflow.python.ops.rnn_cell_impl.LSTMCell object at 0x141b88e10>> could not be transformed and will be executed as-is. Please report this to the AutgoGraph team. When filing the bug, set the verbosity to 10 (on Linux, `export AUTOGRAPH_VERBOSITY=10`) and attach the full output. Cause: converting <bound method LSTMCell.call of <tensorflow.python.ops.rnn_cell_impl.LSTMCell object at 0x141b88e10>>: AttributeError: module 'gast' has no attribute 'Num'\n",
      "WARNING: Entity <bound method LSTMCell.call of <tensorflow.python.ops.rnn_cell_impl.LSTMCell object at 0x141b88e10>> could not be transformed and will be executed as-is. Please report this to the AutgoGraph team. When filing the bug, set the verbosity to 10 (on Linux, `export AUTOGRAPH_VERBOSITY=10`) and attach the full output. Cause: converting <bound method LSTMCell.call of <tensorflow.python.ops.rnn_cell_impl.LSTMCell object at 0x141b88e10>>: AttributeError: module 'gast' has no attribute 'Num'\n",
      "INFO:tensorflow:Restoring parameters from checkpoints_mlt/ctpn_60000.ckpt\n"
     ]
    }
   ],
   "source": [
    "img,boxes,scores = fengzhuang_ctpn.text_detect(image)"
   ]
  },
  {
   "cell_type": "code",
   "execution_count": 16,
   "metadata": {},
   "outputs": [
    {
     "data": {
      "text/plain": [
       "<matplotlib.image.AxesImage at 0x1430ae5d0>"
      ]
     },
     "execution_count": 16,
     "metadata": {},
     "output_type": "execute_result"
    },
    {
     "data": {
      "image/png": "[encoded data removed]",
      "text/plain": [
       "<Figure size 1440x720 with 1 Axes>"
      ]
     },
     "metadata": {
      "needs_background": "light"
     },
     "output_type": "display_data"
    }
   ],
   "source": [
    "plt.imshow(img)"
   ]
  },
  {
   "cell_type": "code",
   "execution_count": null,
   "metadata": {},
   "outputs": [],
   "source": [
    "#resPath = 'res_'+os.path.basename(imagePath)"
   ]
  },
  {
   "cell_type": "code",
   "execution_count": null,
   "metadata": {},
   "outputs": [],
   "source": [
    "#cv2.imwrite(resPath,img)"
   ]
  },
  {
   "cell_type": "code",
   "execution_count": null,
   "metadata": {},
   "outputs": [],
   "source": [
    "#The last one is average score of all proposals\n",
    "#print(boxes)"
   ]
  },
  {
   "cell_type": "code",
   "execution_count": null,
   "metadata": {},
   "outputs": [],
   "source": [
    "#print(scores)"
   ]
  },
  {
   "cell_type": "code",
   "execution_count": 17,
   "metadata": {},
   "outputs": [],
   "source": [
    "from PIL import Image "
   ]
  },
  {
   "cell_type": "code",
   "execution_count": 49,
   "metadata": {},
   "outputs": [],
   "source": [
    "image1 = np.array(Image.open('/Users/yihaoli/Desktop/crnn_pytorch/data/demo.png').convert('RGB'))"
   ]
  },
  {
   "cell_type": "code",
   "execution_count": 50,
   "metadata": {},
   "outputs": [
    {
     "data": {
      "text/plain": [
       "array([[64, 68, 80],\n",
       "       [64, 68, 80],\n",
       "       [64, 68, 80],\n",
       "       [64, 68, 79],\n",
       "       [65, 69, 80],\n",
       "       [65, 69, 80],\n",
       "       [65, 69, 80],\n",
       "       [65, 69, 80],\n",
       "       [64, 68, 79],\n",
       "       [64, 68, 79],\n",
       "       [63, 67, 78],\n",
       "       [64, 68, 79],\n",
       "       [63, 67, 78],\n",
       "       [63, 67, 78],\n",
       "       [64, 68, 79],\n",
       "       [64, 68, 79],\n",
       "       [63, 67, 78],\n",
       "       [64, 68, 79],\n",
       "       [64, 68, 79],\n",
       "       [64, 68, 79],\n",
       "       [64, 68, 79],\n",
       "       [63, 67, 78],\n",
       "       [63, 67, 78],\n",
       "       [63, 67, 78],\n",
       "       [63, 67, 78],\n",
       "       [62, 66, 77],\n",
       "       [62, 66, 77],\n",
       "       [62, 66, 78],\n",
       "       [62, 66, 78],\n",
       "       [62, 66, 78],\n",
       "       [63, 67, 79],\n",
       "       [63, 67, 79],\n",
       "       [61, 65, 77],\n",
       "       [60, 64, 76],\n",
       "       [60, 64, 76],\n",
       "       [58, 64, 76],\n",
       "       [59, 65, 77],\n",
       "       [60, 67, 77],\n",
       "       [60, 67, 77],\n",
       "       [60, 67, 77],\n",
       "       [59, 66, 76],\n",
       "       [57, 64, 74],\n",
       "       [55, 62, 72],\n",
       "       [57, 64, 74],\n",
       "       [55, 62, 72],\n",
       "       [55, 62, 72],\n",
       "       [55, 62, 72],\n",
       "       [55, 62, 72],\n",
       "       [54, 61, 71],\n",
       "       [53, 62, 71],\n",
       "       [53, 62, 71],\n",
       "       [55, 62, 70],\n",
       "       [52, 59, 67],\n",
       "       [53, 60, 68],\n",
       "       [54, 61, 69],\n",
       "       [52, 59, 67],\n",
       "       [52, 59, 67],\n",
       "       [52, 59, 69],\n",
       "       [51, 58, 68],\n",
       "       [51, 58, 68],\n",
       "       [51, 58, 68],\n",
       "       [51, 58, 68],\n",
       "       [50, 57, 67],\n",
       "       [50, 57, 67],\n",
       "       [51, 58, 68],\n",
       "       [51, 58, 68],\n",
       "       [50, 57, 67],\n",
       "       [52, 58, 70],\n",
       "       [49, 55, 67],\n",
       "       [50, 57, 67],\n",
       "       [53, 60, 70],\n",
       "       [52, 59, 69],\n",
       "       [49, 56, 66],\n",
       "       [50, 57, 67],\n",
       "       [54, 61, 71],\n",
       "       [51, 58, 68],\n",
       "       [52, 59, 69],\n",
       "       [52, 59, 69],\n",
       "       [52, 59, 69],\n",
       "       [52, 59, 69],\n",
       "       [52, 59, 69],\n",
       "       [53, 59, 71],\n",
       "       [54, 61, 71],\n",
       "       [53, 57, 66],\n",
       "       [55, 59, 68],\n",
       "       [54, 58, 67],\n",
       "       [52, 56, 65],\n",
       "       [52, 56, 67],\n",
       "       [54, 58, 69],\n",
       "       [54, 58, 69],\n",
       "       [51, 55, 66],\n",
       "       [53, 57, 68],\n",
       "       [53, 57, 68],\n",
       "       [52, 56, 67],\n",
       "       [51, 55, 66],\n",
       "       [51, 55, 66],\n",
       "       [51, 55, 66],\n",
       "       [51, 55, 66],\n",
       "       [51, 55, 66],\n",
       "       [50, 57, 67],\n",
       "       [49, 56, 66],\n",
       "       [48, 55, 65],\n",
       "       [48, 55, 65],\n",
       "       [48, 55, 65],\n",
       "       [48, 55, 65],\n",
       "       [50, 54, 65],\n",
       "       [49, 53, 64],\n",
       "       [50, 54, 65],\n",
       "       [50, 54, 65],\n",
       "       [49, 53, 64],\n",
       "       [48, 52, 63],\n",
       "       [47, 51, 62],\n",
       "       [46, 50, 61],\n",
       "       [47, 51, 62],\n",
       "       [48, 52, 63],\n",
       "       [46, 53, 61],\n",
       "       [46, 53, 61],\n",
       "       [46, 53, 61],\n",
       "       [46, 53, 61],\n",
       "       [47, 51, 60],\n",
       "       [46, 50, 59],\n",
       "       [46, 50, 59],\n",
       "       [46, 50, 59],\n",
       "       [46, 50, 59],\n",
       "       [46, 50, 59],\n",
       "       [46, 50, 59],\n",
       "       [45, 49, 58],\n",
       "       [43, 50, 58],\n",
       "       [44, 51, 59],\n",
       "       [44, 51, 59],\n",
       "       [43, 50, 58],\n",
       "       [43, 50, 58],\n",
       "       [43, 50, 58],\n",
       "       [42, 49, 57],\n",
       "       [41, 48, 56],\n",
       "       [41, 48, 56],\n",
       "       [40, 47, 55],\n",
       "       [40, 47, 55],\n",
       "       [40, 47, 55],\n",
       "       [43, 47, 56],\n",
       "       [42, 46, 55],\n",
       "       [42, 46, 55],\n",
       "       [42, 46, 55],\n",
       "       [42, 46, 55],\n",
       "       [42, 46, 55],\n",
       "       [42, 46, 55],\n",
       "       [43, 47, 56],\n",
       "       [39, 46, 54],\n",
       "       [40, 47, 55],\n",
       "       [40, 47, 55],\n",
       "       [40, 47, 55],\n",
       "       [44, 49, 55],\n",
       "       [44, 49, 55],\n",
       "       [42, 47, 53],\n",
       "       [39, 44, 50],\n",
       "       [39, 44, 50],\n",
       "       [41, 46, 52],\n",
       "       [42, 46, 55],\n",
       "       [41, 45, 54],\n",
       "       [41, 45, 54],\n",
       "       [42, 46, 55],\n",
       "       [42, 46, 57],\n",
       "       [41, 45, 56],\n",
       "       [41, 48, 56],\n",
       "       [42, 49, 57],\n",
       "       [42, 49, 57],\n",
       "       [42, 49, 57],\n",
       "       [42, 49, 57],\n",
       "       [41, 48, 56],\n",
       "       [42, 46, 55],\n",
       "       [41, 45, 54],\n",
       "       [40, 44, 53],\n",
       "       [40, 44, 53],\n",
       "       [40, 44, 53],\n",
       "       [40, 44, 53],\n",
       "       [41, 45, 54],\n",
       "       [42, 46, 55],\n",
       "       [40, 44, 53],\n",
       "       [38, 42, 51],\n",
       "       [38, 42, 51],\n",
       "       [39, 43, 52],\n",
       "       [40, 44, 53],\n",
       "       [40, 44, 53],\n",
       "       [40, 45, 51]], dtype=uint8)"
      ]
     },
     "execution_count": 50,
     "metadata": {},
     "output_type": "execute_result"
    }
   ],
   "source": [
    "image1[0]"
   ]
  },
  {
   "cell_type": "code",
   "execution_count": 58,
   "metadata": {},
   "outputs": [],
   "source": [
    "image2 = cv2.imread('/Users/yihaoli/Desktop/crnn_pytorch/data/demo.png')#[:, :, ::-1]"
   ]
  },
  {
   "cell_type": "code",
   "execution_count": 59,
   "metadata": {},
   "outputs": [
    {
     "data": {
      "text/plain": [
       "array([[80, 68, 64],\n",
       "       [80, 68, 64],\n",
       "       [80, 68, 64],\n",
       "       [79, 68, 64],\n",
       "       [80, 69, 65],\n",
       "       [80, 69, 65],\n",
       "       [80, 69, 65],\n",
       "       [80, 69, 65],\n",
       "       [79, 68, 64],\n",
       "       [79, 68, 64],\n",
       "       [78, 67, 63],\n",
       "       [79, 68, 64],\n",
       "       [78, 67, 63],\n",
       "       [78, 67, 63],\n",
       "       [79, 68, 64],\n",
       "       [79, 68, 64],\n",
       "       [78, 67, 63],\n",
       "       [79, 68, 64],\n",
       "       [79, 68, 64],\n",
       "       [79, 68, 64],\n",
       "       [79, 68, 64],\n",
       "       [78, 67, 63],\n",
       "       [78, 67, 63],\n",
       "       [78, 67, 63],\n",
       "       [78, 67, 63],\n",
       "       [77, 66, 62],\n",
       "       [77, 66, 62],\n",
       "       [78, 66, 62],\n",
       "       [78, 66, 62],\n",
       "       [78, 66, 62],\n",
       "       [79, 67, 63],\n",
       "       [79, 67, 63],\n",
       "       [77, 65, 61],\n",
       "       [76, 64, 60],\n",
       "       [76, 64, 60],\n",
       "       [76, 64, 58],\n",
       "       [77, 65, 59],\n",
       "       [77, 67, 60],\n",
       "       [77, 67, 60],\n",
       "       [77, 67, 60],\n",
       "       [76, 66, 59],\n",
       "       [74, 64, 57],\n",
       "       [72, 62, 55],\n",
       "       [74, 64, 57],\n",
       "       [72, 62, 55],\n",
       "       [72, 62, 55],\n",
       "       [72, 62, 55],\n",
       "       [72, 62, 55],\n",
       "       [71, 61, 54],\n",
       "       [71, 62, 53],\n",
       "       [71, 62, 53],\n",
       "       [70, 62, 55],\n",
       "       [67, 59, 52],\n",
       "       [68, 60, 53],\n",
       "       [69, 61, 54],\n",
       "       [67, 59, 52],\n",
       "       [67, 59, 52],\n",
       "       [69, 59, 52],\n",
       "       [68, 58, 51],\n",
       "       [68, 58, 51],\n",
       "       [68, 58, 51],\n",
       "       [68, 58, 51],\n",
       "       [67, 57, 50],\n",
       "       [67, 57, 50],\n",
       "       [68, 58, 51],\n",
       "       [68, 58, 51],\n",
       "       [67, 57, 50],\n",
       "       [70, 58, 52],\n",
       "       [67, 55, 49],\n",
       "       [67, 57, 50],\n",
       "       [70, 60, 53],\n",
       "       [69, 59, 52],\n",
       "       [66, 56, 49],\n",
       "       [67, 57, 50],\n",
       "       [71, 61, 54],\n",
       "       [68, 58, 51],\n",
       "       [69, 59, 52],\n",
       "       [69, 59, 52],\n",
       "       [69, 59, 52],\n",
       "       [69, 59, 52],\n",
       "       [69, 59, 52],\n",
       "       [71, 59, 53],\n",
       "       [71, 61, 54],\n",
       "       [66, 57, 53],\n",
       "       [68, 59, 55],\n",
       "       [67, 58, 54],\n",
       "       [65, 56, 52],\n",
       "       [67, 56, 52],\n",
       "       [69, 58, 54],\n",
       "       [69, 58, 54],\n",
       "       [66, 55, 51],\n",
       "       [68, 57, 53],\n",
       "       [68, 57, 53],\n",
       "       [67, 56, 52],\n",
       "       [66, 55, 51],\n",
       "       [66, 55, 51],\n",
       "       [66, 55, 51],\n",
       "       [66, 55, 51],\n",
       "       [66, 55, 51],\n",
       "       [67, 57, 50],\n",
       "       [66, 56, 49],\n",
       "       [65, 55, 48],\n",
       "       [65, 55, 48],\n",
       "       [65, 55, 48],\n",
       "       [65, 55, 48],\n",
       "       [65, 54, 50],\n",
       "       [64, 53, 49],\n",
       "       [65, 54, 50],\n",
       "       [65, 54, 50],\n",
       "       [64, 53, 49],\n",
       "       [63, 52, 48],\n",
       "       [62, 51, 47],\n",
       "       [61, 50, 46],\n",
       "       [62, 51, 47],\n",
       "       [63, 52, 48],\n",
       "       [61, 53, 46],\n",
       "       [61, 53, 46],\n",
       "       [61, 53, 46],\n",
       "       [61, 53, 46],\n",
       "       [60, 51, 47],\n",
       "       [59, 50, 46],\n",
       "       [59, 50, 46],\n",
       "       [59, 50, 46],\n",
       "       [59, 50, 46],\n",
       "       [59, 50, 46],\n",
       "       [59, 50, 46],\n",
       "       [58, 49, 45],\n",
       "       [58, 50, 43],\n",
       "       [59, 51, 44],\n",
       "       [59, 51, 44],\n",
       "       [58, 50, 43],\n",
       "       [58, 50, 43],\n",
       "       [58, 50, 43],\n",
       "       [57, 49, 42],\n",
       "       [56, 48, 41],\n",
       "       [56, 48, 41],\n",
       "       [55, 47, 40],\n",
       "       [55, 47, 40],\n",
       "       [55, 47, 40],\n",
       "       [56, 47, 43],\n",
       "       [55, 46, 42],\n",
       "       [55, 46, 42],\n",
       "       [55, 46, 42],\n",
       "       [55, 46, 42],\n",
       "       [55, 46, 42],\n",
       "       [55, 46, 42],\n",
       "       [56, 47, 43],\n",
       "       [54, 46, 39],\n",
       "       [55, 47, 40],\n",
       "       [55, 47, 40],\n",
       "       [55, 47, 40],\n",
       "       [55, 49, 44],\n",
       "       [55, 49, 44],\n",
       "       [53, 47, 42],\n",
       "       [50, 44, 39],\n",
       "       [50, 44, 39],\n",
       "       [52, 46, 41],\n",
       "       [55, 46, 42],\n",
       "       [54, 45, 41],\n",
       "       [54, 45, 41],\n",
       "       [55, 46, 42],\n",
       "       [57, 46, 42],\n",
       "       [56, 45, 41],\n",
       "       [56, 48, 41],\n",
       "       [57, 49, 42],\n",
       "       [57, 49, 42],\n",
       "       [57, 49, 42],\n",
       "       [57, 49, 42],\n",
       "       [56, 48, 41],\n",
       "       [55, 46, 42],\n",
       "       [54, 45, 41],\n",
       "       [53, 44, 40],\n",
       "       [53, 44, 40],\n",
       "       [53, 44, 40],\n",
       "       [53, 44, 40],\n",
       "       [54, 45, 41],\n",
       "       [55, 46, 42],\n",
       "       [53, 44, 40],\n",
       "       [51, 42, 38],\n",
       "       [51, 42, 38],\n",
       "       [52, 43, 39],\n",
       "       [53, 44, 40],\n",
       "       [53, 44, 40],\n",
       "       [51, 45, 40]], dtype=uint8)"
      ]
     },
     "execution_count": 59,
     "metadata": {},
     "output_type": "execute_result"
    }
   ],
   "source": [
    "image2[0]"
   ]
  },
  {
   "cell_type": "code",
   "execution_count": 61,
   "metadata": {},
   "outputs": [],
   "source": [
    "image3 = Image.open('/Users/yihaoli/Desktop/crnn_pytorch/data/demo.png')"
   ]
  },
  {
   "cell_type": "code",
   "execution_count": 73,
   "metadata": {},
   "outputs": [],
   "source": [
    "#np.asarray(image3).shape"
   ]
  },
  {
   "cell_type": "code",
   "execution_count": 70,
   "metadata": {},
   "outputs": [],
   "source": [
    "#image4 = cv2.cvtColor(image1,cv2.COLOR_RGB2BGR)  "
   ]
  },
  {
   "cell_type": "code",
   "execution_count": 71,
   "metadata": {},
   "outputs": [],
   "source": [
    "#image2.shape"
   ]
  },
  {
   "cell_type": "code",
   "execution_count": 77,
   "metadata": {},
   "outputs": [
    {
     "data": {
      "text/plain": [
       "array([[[64, 68, 80],\n",
       "        [64, 68, 80],\n",
       "        [64, 68, 80],\n",
       "        ...,\n",
       "        [40, 44, 53],\n",
       "        [40, 44, 53],\n",
       "        [40, 45, 51]],\n",
       "\n",
       "       [[64, 68, 80],\n",
       "        [64, 68, 80],\n",
       "        [64, 68, 80],\n",
       "        ...,\n",
       "        [39, 43, 52],\n",
       "        [39, 43, 52],\n",
       "        [39, 43, 52]],\n",
       "\n",
       "       [[64, 68, 80],\n",
       "        [64, 68, 80],\n",
       "        [64, 68, 80],\n",
       "        ...,\n",
       "        [40, 44, 53],\n",
       "        [40, 44, 53],\n",
       "        [40, 44, 53]],\n",
       "\n",
       "       ...,\n",
       "\n",
       "       [[59, 66, 76],\n",
       "        [59, 66, 76],\n",
       "        [60, 67, 77],\n",
       "        ...,\n",
       "        [43, 47, 56],\n",
       "        [44, 48, 57],\n",
       "        [42, 47, 53]],\n",
       "\n",
       "       [[59, 66, 76],\n",
       "        [60, 67, 77],\n",
       "        [60, 67, 77],\n",
       "        ...,\n",
       "        [41, 45, 54],\n",
       "        [41, 45, 54],\n",
       "        [40, 45, 51]],\n",
       "\n",
       "       [[60, 66, 78],\n",
       "        [60, 66, 78],\n",
       "        [61, 67, 79],\n",
       "        ...,\n",
       "        [40, 44, 53],\n",
       "        [41, 45, 54],\n",
       "        [41, 45, 54]]], dtype=uint8)"
      ]
     },
     "execution_count": 77,
     "metadata": {},
     "output_type": "execute_result"
    }
   ],
   "source": [
    "np.array(image3)"
   ]
  },
  {
   "cell_type": "code",
   "execution_count": 69,
   "metadata": {},
   "outputs": [
    {
     "name": "stdout",
     "output_type": "stream",
     "text": [
      "yes\n"
     ]
    }
   ],
   "source": [
    "if np.all(image2 == image4):\n",
    "    print('yes')"
   ]
  },
  {
   "cell_type": "code",
   "execution_count": null,
   "metadata": {},
   "outputs": [],
   "source": []
  },
  {
   "cell_type": "code",
   "execution_count": null,
   "metadata": {},
   "outputs": [],
   "source": []
  }
 ],
 "metadata": {
  "kernelspec": {
   "display_name": "Python 3",
   "language": "python",
   "name": "python3"
  },
  "language_info": {
   "codemirror_mode": {
    "name": "ipython",
    "version": 3
   },
   "file_extension": ".py",
   "mimetype": "text/x-python",
   "name": "python",
   "nbconvert_exporter": "python",
   "pygments_lexer": "ipython3",
   "version": "3.7.4"
  }
 },
 "nbformat": 4,
 "nbformat_minor": 2
}
