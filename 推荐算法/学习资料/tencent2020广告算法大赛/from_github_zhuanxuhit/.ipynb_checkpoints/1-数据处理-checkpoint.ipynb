{
 "cells": [
  {
   "cell_type": "markdown",
   "metadata": {},
   "source": [
    "## 加载数据"
   ]
  },
  {
   "cell_type": "markdown",
   "metadata": {},
   "source": [
    "比赛地址：http://algo.tpai.qq.com/home/information/index.html\n",
    "\n",
    "下面是所有文件的一个说明\n",
    "![](http://static.zybuluo.com/zhuanxu/evhuwbyqmrvfsvuypsbfrry6/image_1cak7ik2ituh32giqnb65br09.png)"
   ]
  },
  {
   "cell_type": "code",
   "execution_count": 1,
   "metadata": {},
   "outputs": [],
   "source": [
    "import zipfile\n",
    "import numpy as np\n",
    "import pandas as pd"
   ]
  },
  {
   "cell_type": "code",
   "execution_count": 2,
   "metadata": {},
   "outputs": [],
   "source": [
    "data_root = \"./pre\"\n",
    "# load data\n",
    "dfTrain = pd.read_csv(\"%s/train.csv\"%data_root)\n",
    "dfTest = pd.read_csv(\"%s/test.csv\"%data_root)\n",
    "dfAd = pd.read_csv(\"%s/ad.csv\"%data_root)"
   ]
  },
  {
   "cell_type": "markdown",
   "metadata": {},
   "source": [
    "训练数据文件(train.csv)，每行代表一个训练样本，各字段之间由逗号分隔，顺序依次为：“label，clickTime，conversionTime，creativeID，userID，positionID，connectionType，telecomsOperator”。\n",
    "\n",
    "当label=0时，conversionTime字段为空字符串。\n",
    "\n",
    "注：若字段取值为0或空字符串均代表未知。(站点集合ID(sitesetID)为0并不表示未知，而是一个特定的站点集合。)\n"
   ]
  },
  {
   "cell_type": "code",
   "execution_count": 3,
   "metadata": {},
   "outputs": [
    {
     "data": {
      "text/html": [
       "<div>\n",
       "<style scoped>\n",
       "    .dataframe tbody tr th:only-of-type {\n",
       "        vertical-align: middle;\n",
       "    }\n",
       "\n",
       "    .dataframe tbody tr th {\n",
       "        vertical-align: top;\n",
       "    }\n",
       "\n",
       "    .dataframe thead th {\n",
       "        text-align: right;\n",
       "    }\n",
       "</style>\n",
       "<table border=\"1\" class=\"dataframe\">\n",
       "  <thead>\n",
       "    <tr style=\"text-align: right;\">\n",
       "      <th></th>\n",
       "      <th>label</th>\n",
       "      <th>clickTime</th>\n",
       "      <th>conversionTime</th>\n",
       "      <th>creativeID</th>\n",
       "      <th>userID</th>\n",
       "      <th>positionID</th>\n",
       "      <th>connectionType</th>\n",
       "      <th>telecomsOperator</th>\n",
       "    </tr>\n",
       "  </thead>\n",
       "  <tbody>\n",
       "    <tr>\n",
       "      <th>0</th>\n",
       "      <td>0</td>\n",
       "      <td>170000</td>\n",
       "      <td>NaN</td>\n",
       "      <td>3089</td>\n",
       "      <td>2798058</td>\n",
       "      <td>293</td>\n",
       "      <td>1</td>\n",
       "      <td>1</td>\n",
       "    </tr>\n",
       "    <tr>\n",
       "      <th>1</th>\n",
       "      <td>0</td>\n",
       "      <td>170000</td>\n",
       "      <td>NaN</td>\n",
       "      <td>1259</td>\n",
       "      <td>463234</td>\n",
       "      <td>6161</td>\n",
       "      <td>1</td>\n",
       "      <td>2</td>\n",
       "    </tr>\n",
       "    <tr>\n",
       "      <th>2</th>\n",
       "      <td>0</td>\n",
       "      <td>170000</td>\n",
       "      <td>NaN</td>\n",
       "      <td>4465</td>\n",
       "      <td>1857485</td>\n",
       "      <td>7434</td>\n",
       "      <td>4</td>\n",
       "      <td>1</td>\n",
       "    </tr>\n",
       "    <tr>\n",
       "      <th>3</th>\n",
       "      <td>0</td>\n",
       "      <td>170000</td>\n",
       "      <td>NaN</td>\n",
       "      <td>1004</td>\n",
       "      <td>2038823</td>\n",
       "      <td>977</td>\n",
       "      <td>1</td>\n",
       "      <td>1</td>\n",
       "    </tr>\n",
       "    <tr>\n",
       "      <th>4</th>\n",
       "      <td>0</td>\n",
       "      <td>170000</td>\n",
       "      <td>NaN</td>\n",
       "      <td>1887</td>\n",
       "      <td>2015141</td>\n",
       "      <td>3688</td>\n",
       "      <td>1</td>\n",
       "      <td>1</td>\n",
       "    </tr>\n",
       "  </tbody>\n",
       "</table>\n",
       "</div>"
      ],
      "text/plain": [
       "   label  clickTime  conversionTime  creativeID   userID  positionID  \\\n",
       "0      0     170000             NaN        3089  2798058         293   \n",
       "1      0     170000             NaN        1259   463234        6161   \n",
       "2      0     170000             NaN        4465  1857485        7434   \n",
       "3      0     170000             NaN        1004  2038823         977   \n",
       "4      0     170000             NaN        1887  2015141        3688   \n",
       "\n",
       "   connectionType  telecomsOperator  \n",
       "0               1                 1  \n",
       "1               1                 2  \n",
       "2               4                 1  \n",
       "3               1                 1  \n",
       "4               1                 1  "
      ]
     },
     "execution_count": 3,
     "metadata": {},
     "output_type": "execute_result"
    }
   ],
   "source": [
    "dfTrain.head()"
   ]
  },
  {
   "cell_type": "code",
   "execution_count": 4,
   "metadata": {},
   "outputs": [
    {
     "data": {
      "text/html": [
       "<div>\n",
       "<style scoped>\n",
       "    .dataframe tbody tr th:only-of-type {\n",
       "        vertical-align: middle;\n",
       "    }\n",
       "\n",
       "    .dataframe tbody tr th {\n",
       "        vertical-align: top;\n",
       "    }\n",
       "\n",
       "    .dataframe thead th {\n",
       "        text-align: right;\n",
       "    }\n",
       "</style>\n",
       "<table border=\"1\" class=\"dataframe\">\n",
       "  <thead>\n",
       "    <tr style=\"text-align: right;\">\n",
       "      <th></th>\n",
       "      <th>label</th>\n",
       "      <th>clickTime</th>\n",
       "      <th>conversionTime</th>\n",
       "      <th>creativeID</th>\n",
       "      <th>userID</th>\n",
       "      <th>positionID</th>\n",
       "      <th>connectionType</th>\n",
       "      <th>telecomsOperator</th>\n",
       "    </tr>\n",
       "  </thead>\n",
       "  <tbody>\n",
       "    <tr>\n",
       "      <th>147</th>\n",
       "      <td>1</td>\n",
       "      <td>170001</td>\n",
       "      <td>181031.0</td>\n",
       "      <td>2137</td>\n",
       "      <td>703736</td>\n",
       "      <td>2579</td>\n",
       "      <td>1</td>\n",
       "      <td>1</td>\n",
       "    </tr>\n",
       "    <tr>\n",
       "      <th>149</th>\n",
       "      <td>1</td>\n",
       "      <td>170001</td>\n",
       "      <td>170009.0</td>\n",
       "      <td>3981</td>\n",
       "      <td>2030308</td>\n",
       "      <td>2579</td>\n",
       "      <td>2</td>\n",
       "      <td>1</td>\n",
       "    </tr>\n",
       "    <tr>\n",
       "      <th>190</th>\n",
       "      <td>1</td>\n",
       "      <td>170001</td>\n",
       "      <td>170010.0</td>\n",
       "      <td>3584</td>\n",
       "      <td>936876</td>\n",
       "      <td>3322</td>\n",
       "      <td>2</td>\n",
       "      <td>3</td>\n",
       "    </tr>\n",
       "    <tr>\n",
       "      <th>194</th>\n",
       "      <td>1</td>\n",
       "      <td>170001</td>\n",
       "      <td>181027.0</td>\n",
       "      <td>2137</td>\n",
       "      <td>2619571</td>\n",
       "      <td>2579</td>\n",
       "      <td>1</td>\n",
       "      <td>2</td>\n",
       "    </tr>\n",
       "    <tr>\n",
       "      <th>250</th>\n",
       "      <td>1</td>\n",
       "      <td>170001</td>\n",
       "      <td>181031.0</td>\n",
       "      <td>2137</td>\n",
       "      <td>1411484</td>\n",
       "      <td>2579</td>\n",
       "      <td>1</td>\n",
       "      <td>2</td>\n",
       "    </tr>\n",
       "  </tbody>\n",
       "</table>\n",
       "</div>"
      ],
      "text/plain": [
       "     label  clickTime  conversionTime  creativeID   userID  positionID  \\\n",
       "147      1     170001        181031.0        2137   703736        2579   \n",
       "149      1     170001        170009.0        3981  2030308        2579   \n",
       "190      1     170001        170010.0        3584   936876        3322   \n",
       "194      1     170001        181027.0        2137  2619571        2579   \n",
       "250      1     170001        181031.0        2137  1411484        2579   \n",
       "\n",
       "     connectionType  telecomsOperator  \n",
       "147               1                 1  \n",
       "149               2                 1  \n",
       "190               2                 3  \n",
       "194               1                 2  \n",
       "250               1                 2  "
      ]
     },
     "execution_count": 4,
     "metadata": {},
     "output_type": "execute_result"
    }
   ],
   "source": [
    "dfTrain[dfTrain['label']==1].head()"
   ]
  },
  {
   "cell_type": "markdown",
   "metadata": {},
   "source": [
    "下面我们来看下 clickTime都有哪些"
   ]
  },
  {
   "cell_type": "code",
   "execution_count": 6,
   "metadata": {},
   "outputs": [
    {
     "data": {
      "text/plain": [
       "(170000, 302359)"
      ]
     },
     "execution_count": 6,
     "metadata": {},
     "output_type": "execute_result"
    }
   ],
   "source": [
    "dfTrain['clickTime'].min(),dfTrain['clickTime'].max()"
   ]
  },
  {
   "cell_type": "markdown",
   "metadata": {},
   "source": [
    "clickTime，conversionTime，installTime，格式均为DDHHMM，其中DD代表第几天，HH代表小时，MM代表分钟。\n",
    "\n",
    "因为不再提供线上的评估方式了，我们现在统计下每天的数据量，然后我们选择30号的数据作为val数据"
   ]
  },
  {
   "cell_type": "code",
   "execution_count": 20,
   "metadata": {},
   "outputs": [],
   "source": [
    "dfTrain['day'] = dfTrain['clickTime'].apply(lambda t : int(t/10000))"
   ]
  },
  {
   "cell_type": "code",
   "execution_count": 26,
   "metadata": {},
   "outputs": [],
   "source": [
    "a = dfTrain.groupby('day').label.agg(['mean','size'])"
   ]
  },
  {
   "cell_type": "code",
   "execution_count": 27,
   "metadata": {},
   "outputs": [
    {
     "data": {
      "text/html": [
       "<div>\n",
       "<style scoped>\n",
       "    .dataframe tbody tr th:only-of-type {\n",
       "        vertical-align: middle;\n",
       "    }\n",
       "\n",
       "    .dataframe tbody tr th {\n",
       "        vertical-align: top;\n",
       "    }\n",
       "\n",
       "    .dataframe thead th {\n",
       "        text-align: right;\n",
       "    }\n",
       "</style>\n",
       "<table border=\"1\" class=\"dataframe\">\n",
       "  <thead>\n",
       "    <tr style=\"text-align: right;\">\n",
       "      <th></th>\n",
       "      <th>mean</th>\n",
       "      <th>size</th>\n",
       "    </tr>\n",
       "    <tr>\n",
       "      <th>day</th>\n",
       "      <th></th>\n",
       "      <th></th>\n",
       "    </tr>\n",
       "  </thead>\n",
       "  <tbody>\n",
       "    <tr>\n",
       "      <th>17</th>\n",
       "      <td>0.025340</td>\n",
       "      <td>294553</td>\n",
       "    </tr>\n",
       "    <tr>\n",
       "      <th>18</th>\n",
       "      <td>0.025633</td>\n",
       "      <td>159991</td>\n",
       "    </tr>\n",
       "    <tr>\n",
       "      <th>19</th>\n",
       "      <td>0.031548</td>\n",
       "      <td>104158</td>\n",
       "    </tr>\n",
       "    <tr>\n",
       "      <th>20</th>\n",
       "      <td>0.024489</td>\n",
       "      <td>206462</td>\n",
       "    </tr>\n",
       "    <tr>\n",
       "      <th>21</th>\n",
       "      <td>0.023075</td>\n",
       "      <td>308596</td>\n",
       "    </tr>\n",
       "    <tr>\n",
       "      <th>22</th>\n",
       "      <td>0.022616</td>\n",
       "      <td>325921</td>\n",
       "    </tr>\n",
       "    <tr>\n",
       "      <th>23</th>\n",
       "      <td>0.026374</td>\n",
       "      <td>288433</td>\n",
       "    </tr>\n",
       "    <tr>\n",
       "      <th>24</th>\n",
       "      <td>0.025880</td>\n",
       "      <td>285242</td>\n",
       "    </tr>\n",
       "    <tr>\n",
       "      <th>25</th>\n",
       "      <td>0.027643</td>\n",
       "      <td>266833</td>\n",
       "    </tr>\n",
       "    <tr>\n",
       "      <th>26</th>\n",
       "      <td>0.025975</td>\n",
       "      <td>297825</td>\n",
       "    </tr>\n",
       "    <tr>\n",
       "      <th>27</th>\n",
       "      <td>0.025779</td>\n",
       "      <td>296714</td>\n",
       "    </tr>\n",
       "    <tr>\n",
       "      <th>28</th>\n",
       "      <td>0.026354</td>\n",
       "      <td>278634</td>\n",
       "    </tr>\n",
       "    <tr>\n",
       "      <th>29</th>\n",
       "      <td>0.024728</td>\n",
       "      <td>301769</td>\n",
       "    </tr>\n",
       "    <tr>\n",
       "      <th>30</th>\n",
       "      <td>0.018864</td>\n",
       "      <td>334397</td>\n",
       "    </tr>\n",
       "  </tbody>\n",
       "</table>\n",
       "</div>"
      ],
      "text/plain": [
       "         mean    size\n",
       "day                  \n",
       "17   0.025340  294553\n",
       "18   0.025633  159991\n",
       "19   0.031548  104158\n",
       "20   0.024489  206462\n",
       "21   0.023075  308596\n",
       "22   0.022616  325921\n",
       "23   0.026374  288433\n",
       "24   0.025880  285242\n",
       "25   0.027643  266833\n",
       "26   0.025975  297825\n",
       "27   0.025779  296714\n",
       "28   0.026354  278634\n",
       "29   0.024728  301769\n",
       "30   0.018864  334397"
      ]
     },
     "execution_count": 27,
     "metadata": {},
     "output_type": "execute_result"
    }
   ],
   "source": [
    "a"
   ]
  },
  {
   "cell_type": "code",
   "execution_count": 30,
   "metadata": {},
   "outputs": [],
   "source": [
    "train = dfTrain[dfTrain['day']<30].reset_index()\n",
    "val   = dfTrain[dfTrain['day'] == 30].reset_index()"
   ]
  },
  {
   "cell_type": "code",
   "execution_count": 31,
   "metadata": {},
   "outputs": [
    {
     "data": {
      "text/html": [
       "<div>\n",
       "<style scoped>\n",
       "    .dataframe tbody tr th:only-of-type {\n",
       "        vertical-align: middle;\n",
       "    }\n",
       "\n",
       "    .dataframe tbody tr th {\n",
       "        vertical-align: top;\n",
       "    }\n",
       "\n",
       "    .dataframe thead th {\n",
       "        text-align: right;\n",
       "    }\n",
       "</style>\n",
       "<table border=\"1\" class=\"dataframe\">\n",
       "  <thead>\n",
       "    <tr style=\"text-align: right;\">\n",
       "      <th></th>\n",
       "      <th>creativeID</th>\n",
       "      <th>adID</th>\n",
       "      <th>camgaignID</th>\n",
       "      <th>advertiserID</th>\n",
       "      <th>appID</th>\n",
       "      <th>appPlatform</th>\n",
       "    </tr>\n",
       "  </thead>\n",
       "  <tbody>\n",
       "    <tr>\n",
       "      <th>0</th>\n",
       "      <td>4079</td>\n",
       "      <td>2318</td>\n",
       "      <td>147</td>\n",
       "      <td>80</td>\n",
       "      <td>14</td>\n",
       "      <td>2</td>\n",
       "    </tr>\n",
       "    <tr>\n",
       "      <th>1</th>\n",
       "      <td>4565</td>\n",
       "      <td>3593</td>\n",
       "      <td>632</td>\n",
       "      <td>3</td>\n",
       "      <td>465</td>\n",
       "      <td>1</td>\n",
       "    </tr>\n",
       "    <tr>\n",
       "      <th>2</th>\n",
       "      <td>3170</td>\n",
       "      <td>1593</td>\n",
       "      <td>205</td>\n",
       "      <td>54</td>\n",
       "      <td>389</td>\n",
       "      <td>1</td>\n",
       "    </tr>\n",
       "    <tr>\n",
       "      <th>3</th>\n",
       "      <td>6566</td>\n",
       "      <td>2390</td>\n",
       "      <td>205</td>\n",
       "      <td>54</td>\n",
       "      <td>389</td>\n",
       "      <td>1</td>\n",
       "    </tr>\n",
       "    <tr>\n",
       "      <th>4</th>\n",
       "      <td>5187</td>\n",
       "      <td>411</td>\n",
       "      <td>564</td>\n",
       "      <td>3</td>\n",
       "      <td>465</td>\n",
       "      <td>1</td>\n",
       "    </tr>\n",
       "  </tbody>\n",
       "</table>\n",
       "</div>"
      ],
      "text/plain": [
       "   creativeID  adID  camgaignID  advertiserID  appID  appPlatform\n",
       "0        4079  2318         147            80     14            2\n",
       "1        4565  3593         632             3    465            1\n",
       "2        3170  1593         205            54    389            1\n",
       "3        6566  2390         205            54    389            1\n",
       "4        5187   411         564             3    465            1"
      ]
     },
     "execution_count": 31,
     "metadata": {},
     "output_type": "execute_result"
    }
   ],
   "source": [
    "dfAd.head()"
   ]
  },
  {
   "cell_type": "markdown",
   "metadata": {
    "heading_collapsed": true
   },
   "source": [
    "## Ad基线版本\n",
    "提供两个基线版本，统计和lr，先是纯统计的版本，我们直接统计每个appId的转换率，然后用他作为预测值"
   ]
  },
  {
   "cell_type": "code",
   "execution_count": 32,
   "metadata": {
    "hidden": true
   },
   "outputs": [],
   "source": [
    "# process data\n",
    "trainAll = pd.merge(train, dfAd, on=\"creativeID\")\n",
    "valAll = pd.merge(val, dfAd, on=\"creativeID\")\n",
    "y_train = trainAll[\"label\"].values"
   ]
  },
  {
   "cell_type": "code",
   "execution_count": 33,
   "metadata": {
    "hidden": true
   },
   "outputs": [],
   "source": [
    "key = \"appID\"\n",
    "dfCvr = trainAll.groupby(key).apply(lambda df: np.mean(df[\"label\"])).reset_index()"
   ]
  },
  {
   "cell_type": "code",
   "execution_count": 35,
   "metadata": {
    "hidden": true
   },
   "outputs": [
    {
     "data": {
      "text/html": [
       "<div>\n",
       "<style scoped>\n",
       "    .dataframe tbody tr th:only-of-type {\n",
       "        vertical-align: middle;\n",
       "    }\n",
       "\n",
       "    .dataframe tbody tr th {\n",
       "        vertical-align: top;\n",
       "    }\n",
       "\n",
       "    .dataframe thead th {\n",
       "        text-align: right;\n",
       "    }\n",
       "</style>\n",
       "<table border=\"1\" class=\"dataframe\">\n",
       "  <thead>\n",
       "    <tr style=\"text-align: right;\">\n",
       "      <th></th>\n",
       "      <th>appID</th>\n",
       "      <th>0</th>\n",
       "    </tr>\n",
       "  </thead>\n",
       "  <tbody>\n",
       "    <tr>\n",
       "      <th>0</th>\n",
       "      <td>14</td>\n",
       "      <td>0.002603</td>\n",
       "    </tr>\n",
       "    <tr>\n",
       "      <th>1</th>\n",
       "      <td>25</td>\n",
       "      <td>0.006042</td>\n",
       "    </tr>\n",
       "    <tr>\n",
       "      <th>2</th>\n",
       "      <td>68</td>\n",
       "      <td>0.000470</td>\n",
       "    </tr>\n",
       "    <tr>\n",
       "      <th>3</th>\n",
       "      <td>75</td>\n",
       "      <td>0.000000</td>\n",
       "    </tr>\n",
       "    <tr>\n",
       "      <th>4</th>\n",
       "      <td>83</td>\n",
       "      <td>0.106286</td>\n",
       "    </tr>\n",
       "  </tbody>\n",
       "</table>\n",
       "</div>"
      ],
      "text/plain": [
       "   appID         0\n",
       "0     14  0.002603\n",
       "1     25  0.006042\n",
       "2     68  0.000470\n",
       "3     75  0.000000\n",
       "4     83  0.106286"
      ]
     },
     "execution_count": 35,
     "metadata": {},
     "output_type": "execute_result"
    }
   ],
   "source": [
    "dfCvr.head()"
   ]
  },
  {
   "cell_type": "code",
   "execution_count": 36,
   "metadata": {
    "hidden": true
   },
   "outputs": [],
   "source": [
    "dfCvr.columns = ['appID','prior_cvr'] # 先验分布"
   ]
  },
  {
   "cell_type": "code",
   "execution_count": 37,
   "metadata": {
    "hidden": true
   },
   "outputs": [],
   "source": [
    "dfVal = pd.merge(valAll, dfCvr, how=\"left\", on=key)"
   ]
  },
  {
   "cell_type": "code",
   "execution_count": 39,
   "metadata": {
    "hidden": true
   },
   "outputs": [
    {
     "data": {
      "text/html": [
       "<div>\n",
       "<style scoped>\n",
       "    .dataframe tbody tr th:only-of-type {\n",
       "        vertical-align: middle;\n",
       "    }\n",
       "\n",
       "    .dataframe tbody tr th {\n",
       "        vertical-align: top;\n",
       "    }\n",
       "\n",
       "    .dataframe thead th {\n",
       "        text-align: right;\n",
       "    }\n",
       "</style>\n",
       "<table border=\"1\" class=\"dataframe\">\n",
       "  <thead>\n",
       "    <tr style=\"text-align: right;\">\n",
       "      <th></th>\n",
       "      <th>label</th>\n",
       "      <th>prior_cvr</th>\n",
       "    </tr>\n",
       "  </thead>\n",
       "  <tbody>\n",
       "    <tr>\n",
       "      <th>0</th>\n",
       "      <td>0</td>\n",
       "      <td>0.020345</td>\n",
       "    </tr>\n",
       "    <tr>\n",
       "      <th>1</th>\n",
       "      <td>0</td>\n",
       "      <td>0.020345</td>\n",
       "    </tr>\n",
       "    <tr>\n",
       "      <th>2</th>\n",
       "      <td>0</td>\n",
       "      <td>0.020345</td>\n",
       "    </tr>\n",
       "    <tr>\n",
       "      <th>3</th>\n",
       "      <td>0</td>\n",
       "      <td>0.020345</td>\n",
       "    </tr>\n",
       "    <tr>\n",
       "      <th>4</th>\n",
       "      <td>0</td>\n",
       "      <td>0.020345</td>\n",
       "    </tr>\n",
       "  </tbody>\n",
       "</table>\n",
       "</div>"
      ],
      "text/plain": [
       "   label  prior_cvr\n",
       "0      0   0.020345\n",
       "1      0   0.020345\n",
       "2      0   0.020345\n",
       "3      0   0.020345\n",
       "4      0   0.020345"
      ]
     },
     "execution_count": 39,
     "metadata": {},
     "output_type": "execute_result"
    }
   ],
   "source": [
    "dfVal[['label','prior_cvr']].head()"
   ]
  },
  {
   "cell_type": "code",
   "execution_count": 44,
   "metadata": {
    "hidden": true
   },
   "outputs": [
    {
     "data": {
      "text/plain": [
       "array([391, 442])"
      ]
     },
     "execution_count": 44,
     "metadata": {},
     "output_type": "execute_result"
    }
   ],
   "source": [
    "# 因为这两个appId从未出现在 train中，所以会有na值，我们的做法就是直接将其设置为平均点击率\n",
    "dfVal[dfVal['prior_cvr'].isna()]['appID'].unique()"
   ]
  },
  {
   "cell_type": "code",
   "execution_count": 46,
   "metadata": {
    "hidden": true
   },
   "outputs": [],
   "source": [
    "dfVal[\"prior_cvr\"].fillna(np.mean(trainAll[\"label\"]), inplace=True)"
   ]
  },
  {
   "cell_type": "markdown",
   "metadata": {
    "hidden": true
   },
   "source": [
    "计算 dfVal 的logloss值"
   ]
  },
  {
   "cell_type": "code",
   "execution_count": 47,
   "metadata": {
    "hidden": true
   },
   "outputs": [],
   "source": [
    "from sklearn.metrics import log_loss"
   ]
  },
  {
   "cell_type": "code",
   "execution_count": 48,
   "metadata": {
    "hidden": true
   },
   "outputs": [
    {
     "data": {
      "text/plain": [
       "0.09055954426098009"
      ]
     },
     "execution_count": 48,
     "metadata": {},
     "output_type": "execute_result"
    }
   ],
   "source": [
    "# 我们得到了一个基线是 0.09\n",
    "log_loss(dfVal['label'].values, dfVal['prior_cvr'].values)"
   ]
  },
  {
   "cell_type": "markdown",
   "metadata": {},
   "source": [
    "## lr 基线版本"
   ]
  },
  {
   "cell_type": "code",
   "execution_count": 49,
   "metadata": {},
   "outputs": [
    {
     "data": {
      "text/html": [
       "<div>\n",
       "<style scoped>\n",
       "    .dataframe tbody tr th:only-of-type {\n",
       "        vertical-align: middle;\n",
       "    }\n",
       "\n",
       "    .dataframe tbody tr th {\n",
       "        vertical-align: top;\n",
       "    }\n",
       "\n",
       "    .dataframe thead th {\n",
       "        text-align: right;\n",
       "    }\n",
       "</style>\n",
       "<table border=\"1\" class=\"dataframe\">\n",
       "  <thead>\n",
       "    <tr style=\"text-align: right;\">\n",
       "      <th></th>\n",
       "      <th>index</th>\n",
       "      <th>label</th>\n",
       "      <th>clickTime</th>\n",
       "      <th>conversionTime</th>\n",
       "      <th>creativeID</th>\n",
       "      <th>userID</th>\n",
       "      <th>positionID</th>\n",
       "      <th>connectionType</th>\n",
       "      <th>telecomsOperator</th>\n",
       "      <th>day</th>\n",
       "      <th>adID</th>\n",
       "      <th>camgaignID</th>\n",
       "      <th>advertiserID</th>\n",
       "      <th>appID</th>\n",
       "      <th>appPlatform</th>\n",
       "    </tr>\n",
       "  </thead>\n",
       "  <tbody>\n",
       "    <tr>\n",
       "      <th>0</th>\n",
       "      <td>0</td>\n",
       "      <td>0</td>\n",
       "      <td>170000</td>\n",
       "      <td>NaN</td>\n",
       "      <td>3089</td>\n",
       "      <td>2798058</td>\n",
       "      <td>293</td>\n",
       "      <td>1</td>\n",
       "      <td>1</td>\n",
       "      <td>17</td>\n",
       "      <td>1321</td>\n",
       "      <td>83</td>\n",
       "      <td>10</td>\n",
       "      <td>434</td>\n",
       "      <td>1</td>\n",
       "    </tr>\n",
       "    <tr>\n",
       "      <th>1</th>\n",
       "      <td>162</td>\n",
       "      <td>0</td>\n",
       "      <td>170001</td>\n",
       "      <td>NaN</td>\n",
       "      <td>3089</td>\n",
       "      <td>195578</td>\n",
       "      <td>3659</td>\n",
       "      <td>0</td>\n",
       "      <td>2</td>\n",
       "      <td>17</td>\n",
       "      <td>1321</td>\n",
       "      <td>83</td>\n",
       "      <td>10</td>\n",
       "      <td>434</td>\n",
       "      <td>1</td>\n",
       "    </tr>\n",
       "    <tr>\n",
       "      <th>2</th>\n",
       "      <td>2237</td>\n",
       "      <td>0</td>\n",
       "      <td>170014</td>\n",
       "      <td>NaN</td>\n",
       "      <td>3089</td>\n",
       "      <td>1462213</td>\n",
       "      <td>3659</td>\n",
       "      <td>0</td>\n",
       "      <td>3</td>\n",
       "      <td>17</td>\n",
       "      <td>1321</td>\n",
       "      <td>83</td>\n",
       "      <td>10</td>\n",
       "      <td>434</td>\n",
       "      <td>1</td>\n",
       "    </tr>\n",
       "    <tr>\n",
       "      <th>3</th>\n",
       "      <td>4809</td>\n",
       "      <td>0</td>\n",
       "      <td>170030</td>\n",
       "      <td>NaN</td>\n",
       "      <td>3089</td>\n",
       "      <td>1985880</td>\n",
       "      <td>5581</td>\n",
       "      <td>1</td>\n",
       "      <td>1</td>\n",
       "      <td>17</td>\n",
       "      <td>1321</td>\n",
       "      <td>83</td>\n",
       "      <td>10</td>\n",
       "      <td>434</td>\n",
       "      <td>1</td>\n",
       "    </tr>\n",
       "    <tr>\n",
       "      <th>4</th>\n",
       "      <td>7128</td>\n",
       "      <td>0</td>\n",
       "      <td>170047</td>\n",
       "      <td>NaN</td>\n",
       "      <td>3089</td>\n",
       "      <td>2152167</td>\n",
       "      <td>5581</td>\n",
       "      <td>1</td>\n",
       "      <td>1</td>\n",
       "      <td>17</td>\n",
       "      <td>1321</td>\n",
       "      <td>83</td>\n",
       "      <td>10</td>\n",
       "      <td>434</td>\n",
       "      <td>1</td>\n",
       "    </tr>\n",
       "  </tbody>\n",
       "</table>\n",
       "</div>"
      ],
      "text/plain": [
       "   index  label  clickTime  conversionTime  creativeID   userID  positionID  \\\n",
       "0      0      0     170000             NaN        3089  2798058         293   \n",
       "1    162      0     170001             NaN        3089   195578        3659   \n",
       "2   2237      0     170014             NaN        3089  1462213        3659   \n",
       "3   4809      0     170030             NaN        3089  1985880        5581   \n",
       "4   7128      0     170047             NaN        3089  2152167        5581   \n",
       "\n",
       "   connectionType  telecomsOperator  day  adID  camgaignID  advertiserID  \\\n",
       "0               1                 1   17  1321          83            10   \n",
       "1               0                 2   17  1321          83            10   \n",
       "2               0                 3   17  1321          83            10   \n",
       "3               1                 1   17  1321          83            10   \n",
       "4               1                 1   17  1321          83            10   \n",
       "\n",
       "   appID  appPlatform  \n",
       "0    434            1  \n",
       "1    434            1  \n",
       "2    434            1  \n",
       "3    434            1  \n",
       "4    434            1  "
      ]
     },
     "execution_count": 49,
     "metadata": {},
     "output_type": "execute_result"
    }
   ],
   "source": [
    "trainAll.head()"
   ]
  },
  {
   "cell_type": "markdown",
   "metadata": {},
   "source": [
    "我们第二个基线模型采用 Lr，所以对于 类别型特征我们都需要进行encode"
   ]
  },
  {
   "cell_type": "code",
   "execution_count": 50,
   "metadata": {},
   "outputs": [],
   "source": [
    "from scipy import sparse\n",
    "from sklearn.preprocessing import OneHotEncoder\n",
    "from sklearn.linear_model import LogisticRegression"
   ]
  },
  {
   "cell_type": "code",
   "execution_count": 51,
   "metadata": {},
   "outputs": [],
   "source": [
    "# feature engineering/encoding\n",
    "enc = OneHotEncoder()\n",
    "# 此处我们不对user_id处理，因为基数太大了。\n",
    "feats = [\"creativeID\", \"adID\", \"camgaignID\", \"advertiserID\", \"appID\", \"appPlatform\"]\n",
    "for i,feat in enumerate(feats):\n",
    "    x_train = enc.fit_transform(trainAll[feat].values.reshape(-1, 1))\n",
    "    # 注意，此处如果 val 中的值从未在 train 中出现过，则编码后都是0\n",
    "    X_val = enc.transform(valAll[feat].values.reshape(-1, 1))\n",
    "    if i == 0:\n",
    "        X_train, X_val = x_train, x_val\n",
    "    else:\n",
    "        X_train, X_val = sparse.hstack((X_train, x_train)), sparse.hstack((X_val, x_val))"
   ]
  },
  {
   "cell_type": "code",
   "execution_count": 52,
   "metadata": {},
   "outputs": [],
   "source": [
    "# model training\n",
    "lr = LogisticRegression()\n",
    "lr.fit(X_train, y_train)\n",
    "proba_val = lr.predict_proba(X_val)[:,1]"
   ]
  },
  {
   "cell_type": "code",
   "execution_count": 56,
   "metadata": {},
   "outputs": [
    {
     "data": {
      "text/plain": [
       "0.08700116469412644"
      ]
     },
     "execution_count": 56,
     "metadata": {},
     "output_type": "execute_result"
    }
   ],
   "source": [
    "# 我们得到了一个基线是 0.087\n",
    "log_loss(dfVal['label'].values, proba_val)"
   ]
  },
  {
   "cell_type": "code",
   "execution_count": 58,
   "metadata": {},
   "outputs": [],
   "source": [
    "import sklearn.externals.joblib as jl"
   ]
  },
  {
   "cell_type": "code",
   "execution_count": 59,
   "metadata": {},
   "outputs": [
    {
     "data": {
      "text/plain": [
       "['./pre/valAll.pkl']"
      ]
     },
     "execution_count": 59,
     "metadata": {},
     "output_type": "execute_result"
    }
   ],
   "source": [
    "jl.dump(trainAll,\"%s/trainAll.pkl\"%data_root)\n",
    "jl.dump(valAll,\"%s/valAll.pkl\"%data_root)"
   ]
  },
  {
   "cell_type": "code",
   "execution_count": null,
   "metadata": {},
   "outputs": [],
   "source": []
  }
 ],
 "metadata": {
  "kernelspec": {
   "display_name": "Python 3",
   "language": "python",
   "name": "python3"
  },
  "language_info": {
   "codemirror_mode": {
    "name": "ipython",
    "version": 3
   },
   "file_extension": ".py",
   "mimetype": "text/x-python",
   "name": "python",
   "nbconvert_exporter": "python",
   "pygments_lexer": "ipython3",
   "version": "3.6.4"
  }
 },
 "nbformat": 4,
 "nbformat_minor": 2
}
