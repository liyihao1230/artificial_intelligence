{
 "cells": [
  {
   "cell_type": "code",
   "execution_count": 89,
   "metadata": {},
   "outputs": [],
   "source": [
    "import numpy as np\n",
    "import pandas as pd\n",
    "import sklearn.externals.joblib as jl\n",
    "from scipy import sparse"
   ]
  },
  {
   "cell_type": "code",
   "execution_count": 4,
   "metadata": {},
   "outputs": [],
   "source": [
    "# dfAll = pd.concat([dfTrain,dfVal],axis=0,ignore_index=True)"
   ]
  },
  {
   "cell_type": "markdown",
   "metadata": {},
   "source": [
    "## 数据处理"
   ]
  },
  {
   "cell_type": "code",
   "execution_count": 66,
   "metadata": {},
   "outputs": [],
   "source": [
    "#第一类编码\n",
    "def categories_process_first_class(cate):\n",
    "    cate = str(cate)\n",
    "    if len(cate)==1:\n",
    "        if int(cate)==0:\n",
    "            return 0\n",
    "    else:\n",
    "        return int(cate[0])\n",
    "\n",
    "#第2类编码\n",
    "def categories_process_second_class(cate):\n",
    "    cate = str(cate)\n",
    "    if len(cate)<3:\n",
    "        return 0\n",
    "    else:\n",
    "        return int(cate[1:])"
   ]
  },
  {
   "cell_type": "code",
   "execution_count": 81,
   "metadata": {},
   "outputs": [],
   "source": [
    "#省份处理\n",
    "def process_province(hometown):\n",
    "    hometown = str(hometown)\n",
    "    province = int(hometown[0:2])\n",
    "    return province\n",
    "\n",
    "#城市处理\n",
    "def process_city(hometown):\n",
    "    hometown = str(hometown)\n",
    "    if len(hometown)>1:\n",
    "        city = int(hometown[2:])\n",
    "    else:\n",
    "        city = 0\n",
    "    return city"
   ]
  },
  {
   "cell_type": "code",
   "execution_count": 67,
   "metadata": {},
   "outputs": [],
   "source": [
    "def get_day(t):\n",
    "    t = str(t)\n",
    "    t=int(t[0:2])\n",
    "    return t\n",
    "def get_hour(t):\n",
    "    t = str(t)\n",
    "    t=int(t[2:4])\n",
    "    return t\n",
    "def get_minute(t):\n",
    "    t = str(t)\n",
    "    t=int(t[4:6])\n",
    "    return t"
   ]
  },
  {
   "cell_type": "code",
   "execution_count": 75,
   "metadata": {},
   "outputs": [],
   "source": [
    "data_root = \"./pre\"\n",
    "dfTrain = pd.read_csv(\"%s/train.csv\"%data_root)\n",
    "# dfTest = pd.read_csv(\"%s/test.csv\"%data_root)\n",
    "dfAd = pd.read_csv(\"%s/ad.csv\"%data_root)\n",
    "dfAppCat = pd.read_csv(\"%s/app_categories.csv\"%data_root)\n",
    "dfUser = pd.read_csv(\"%s/user.csv\"%data_root)\n",
    "dfPosition = pd.read_csv(\"%s/position.csv\"%data_root)\n",
    "dfUserAppActions = pd.read_csv(\"%s/user_app_actions.csv\"%data_root)\n",
    "dfUserInstallApps = pd.read_csv(\"%s/user_installedapps.csv\"%data_root)"
   ]
  },
  {
   "cell_type": "code",
   "execution_count": 87,
   "metadata": {},
   "outputs": [],
   "source": [
    "dfTrainUser = pd.merge(dfTrain,dfUser,on='userID')\n",
    "assert dfTrain.shape[0] == dfTrainUser.shape[0]\n",
    "dfAdAppCat = pd.merge(dfAd,dfAppCat,on='appID')\n",
    "assert dfAd.shape[0] == dfAdAppCat.shape[0]\n",
    "dfAdAppCat[\"app_categories_first_class\"] = dfAdAppCat['appCategory'].apply(categories_process_first_class)\n",
    "dfAdAppCat[\"app_categories_second_class\"] = dfAdAppCat['appCategory'].apply(categories_process_second_class)\n",
    "\n",
    "dfTrainUserAd = pd.merge(dfTrainUser,dfAdAppCat,on='creativeID')\n",
    "assert dfTrainUserAd.shape[0] == dfTrainUser.shape[0]\n",
    "\n",
    "dfTrainUserAdPos = pd.merge(dfTrainUserAd,dfPosition,on='positionID')\n",
    "assert dfTrainUserAdPos.shape[0] == dfTrainUserAdPos.shape[0]\n",
    "\n",
    "dfTrainUserAdPos['clickTime_day'] = dfTrainUserAdPos['clickTime'].apply(get_day)\n",
    "dfTrainUserAdPos['clickTime_hour'] = dfTrainUserAdPos['clickTime'].apply(get_hour)\n",
    "dfTrainUserAdPos['clickTime_minute'] = dfTrainUserAdPos['clickTime'].apply(get_minute)\n",
    "dfTrainUserAdPos[\"hometown_province\"] = dfTrainUserAdPos['hometown'].apply(process_province)\n",
    "dfTrainUserAdPos[\"hometown_city\"] = dfTrainUserAdPos['hometown'].apply(process_city)\n",
    "\n",
    "dfTrainUserAdPos[\"residence_province\"] = dfTrainUserAdPos['residence'].apply(process_province)\n",
    "dfTrainUserAdPos[\"residence_city\"] = dfTrainUserAdPos['residence'].apply(process_city)"
   ]
  },
  {
   "cell_type": "code",
   "execution_count": 83,
   "metadata": {},
   "outputs": [
    {
     "data": {
      "text/plain": [
       "['label',\n",
       " 'clickTime',\n",
       " 'conversionTime',\n",
       " 'creativeID',\n",
       " 'userID',\n",
       " 'positionID',\n",
       " 'connectionType',\n",
       " 'telecomsOperator',\n",
       " 'age',\n",
       " 'gender',\n",
       " 'education',\n",
       " 'marriageStatus',\n",
       " 'haveBaby',\n",
       " 'hometown',\n",
       " 'residence',\n",
       " 'adID',\n",
       " 'camgaignID',\n",
       " 'advertiserID',\n",
       " 'appID',\n",
       " 'appPlatform',\n",
       " 'appCategory',\n",
       " 'app_categories_first_class',\n",
       " 'app_categories_second_class',\n",
       " 'sitesetID',\n",
       " 'positionType',\n",
       " 'clickTime_day',\n",
       " 'clickTime_hour',\n",
       " 'clickTime_minute',\n",
       " 'hometown_province',\n",
       " 'hometown_city']"
      ]
     },
     "execution_count": 83,
     "metadata": {},
     "output_type": "execute_result"
    }
   ],
   "source": [
    "list(dfTrainUserAdPos.columns)"
   ]
  },
  {
   "cell_type": "code",
   "execution_count": 78,
   "metadata": {},
   "outputs": [],
   "source": [
    "# dfValUser = pd.merge(dfVal,dfUser,on='userID')\n",
    "# assert dfVal.shape[0] == dfValUser.shape[0]\n",
    "\n",
    "# dfValUserAd = pd.merge(dfValUser,dfAdAppCat,on='creativeID')\n",
    "# assert dfValUserAd.shape[0] == dfValUser.shape[0]\n",
    "\n",
    "# dfValUserAdPos = pd.merge(dfValUserAd,dfPosition,on='positionID')\n",
    "# assert dfValUserAdPos.shape[0] == dfValUserAdPos.shape[0]\n",
    "\n",
    "# dfValUserAdPos['clickTime_day'] = dfValUserAdPos['clickTime'].apply(get_day)\n",
    "# dfValUserAdPos['clickTime_hour'] = dfValUserAdPos['clickTime'].apply(get_hour)\n",
    "# dfValUserAdPos['clickTime_minute'] = dfValUserAdPos['clickTime'].apply(get_minute)"
   ]
  },
  {
   "cell_type": "markdown",
   "metadata": {},
   "source": [
    "## lr模型\n",
    "此处我们采用FM来做，选用的库是 [xlearn](http://xlearn-doc.readthedocs.io/en/latest/start.html)，先来看下使用方法、原来的文档写的真的不是很清晰。"
   ]
  },
  {
   "cell_type": "code",
   "execution_count": 37,
   "metadata": {},
   "outputs": [],
   "source": [
    "import numpy as np\n",
    "import xlearn as xl\n",
    "from sklearn.datasets import load_iris\n",
    "from sklearn.model_selection import train_test_split\n",
    "\n",
    "# Load dataset\n",
    "iris_data = load_iris()\n",
    "X = iris_data['data']\n",
    "y = np.array([ 1 if i else 0  for i in iris_data['target'] == 2])"
   ]
  },
  {
   "cell_type": "code",
   "execution_count": 38,
   "metadata": {},
   "outputs": [
    {
     "name": "stdout",
     "output_type": "stream",
     "text": [
      "输入数据格式： (150, 4)\n",
      "输入特征样例：\n",
      " [[5.1 3.5 1.4 0.2]\n",
      " [4.9 3.  1.4 0.2]]\n"
     ]
    }
   ],
   "source": [
    "print(\"输入数据格式：\",iris_data.data.shape)\n",
    "print(\"输入特征样例：\\n\",iris_data.data[:2])"
   ]
  },
  {
   "cell_type": "code",
   "execution_count": 39,
   "metadata": {},
   "outputs": [
    {
     "name": "stdout",
     "output_type": "stream",
     "text": [
      "预测值： (150,)\n",
      "预测样例：\n",
      " [0 0]\n"
     ]
    }
   ],
   "source": [
    "print(\"预测值：\", y.shape)\n",
    "print(\"预测样例：\\n\", y[:2])"
   ]
  },
  {
   "cell_type": "code",
   "execution_count": 40,
   "metadata": {},
   "outputs": [],
   "source": [
    "X_train,   \\\n",
    "X_val,     \\\n",
    "y_train,   \\\n",
    "y_val = train_test_split(X, y, test_size=0.3, random_state=0)"
   ]
  },
  {
   "cell_type": "code",
   "execution_count": 41,
   "metadata": {},
   "outputs": [],
   "source": [
    "# param:\n",
    "#  0. binary classification\n",
    "#  1. model scale: 0.1\n",
    "#  2. epoch number: 10 (auto early-stop)\n",
    "#  3. learning rate: 0.1\n",
    "#  4. regular lambda: 1.0\n",
    "#  5. use sgd optimization method\n",
    "linear_model = xl.LRModel(task='binary', init=0.1,\n",
    "                          epoch=10, lr=0.1,\n",
    "                          reg_lambda=1.0, opt='sgd')"
   ]
  },
  {
   "cell_type": "code",
   "execution_count": 42,
   "metadata": {},
   "outputs": [],
   "source": [
    "# Start to train\n",
    "linear_model.fit(X_train, y_train,\n",
    "                 eval_set=[X_val, y_val],\n",
    "                 is_lock_free=False)"
   ]
  },
  {
   "cell_type": "code",
   "execution_count": 43,
   "metadata": {},
   "outputs": [],
   "source": [
    "# Generate predictions\n",
    "y_pred = linear_model.predict(X_val)"
   ]
  },
  {
   "cell_type": "code",
   "execution_count": 44,
   "metadata": {},
   "outputs": [],
   "source": [
    "from sklearn.metrics import log_loss"
   ]
  },
  {
   "cell_type": "code",
   "execution_count": 45,
   "metadata": {
    "scrolled": true
   },
   "outputs": [
    {
     "data": {
      "text/plain": [
       "0.37591112395206394"
      ]
     },
     "execution_count": 45,
     "metadata": {},
     "output_type": "execute_result"
    }
   ],
   "source": [
    "log_loss(y_val, y_pred)"
   ]
  },
  {
   "cell_type": "markdown",
   "metadata": {},
   "source": [
    "## fm 模型"
   ]
  },
  {
   "cell_type": "code",
   "execution_count": 49,
   "metadata": {},
   "outputs": [],
   "source": [
    "import numpy as np\n",
    "import xlearn as xl\n",
    "from sklearn.datasets import load_wine\n",
    "from sklearn.preprocessing import StandardScaler\n",
    "from sklearn.model_selection import train_test_split\n",
    "\n",
    "# Load dataset\n",
    "wine_data = load_wine()\n",
    "X = wine_data['data']\n",
    "y = np.array([ 1 if i else 0  for i in wine_data['target'] == 1])"
   ]
  },
  {
   "cell_type": "code",
   "execution_count": 50,
   "metadata": {},
   "outputs": [
    {
     "name": "stdout",
     "output_type": "stream",
     "text": [
      "输入数据格式： (178, 13)\n",
      "输入特征样例：\n",
      " [[1.423e+01 1.710e+00 2.430e+00 1.560e+01 1.270e+02 2.800e+00 3.060e+00\n",
      "  2.800e-01 2.290e+00 5.640e+00 1.040e+00 3.920e+00 1.065e+03]\n",
      " [1.320e+01 1.780e+00 2.140e+00 1.120e+01 1.000e+02 2.650e+00 2.760e+00\n",
      "  2.600e-01 1.280e+00 4.380e+00 1.050e+00 3.400e+00 1.050e+03]]\n",
      "预测值： (178,)\n",
      "预测样例：\n",
      " [0 0]\n"
     ]
    }
   ],
   "source": [
    "print(\"输入数据格式：\",wine_data.data.shape)\n",
    "print(\"输入特征样例：\\n\",wine_data.data[:2])\n",
    "print(\"预测值：\", y.shape)\n",
    "print(\"预测样例：\\n\", y[:2])"
   ]
  },
  {
   "cell_type": "code",
   "execution_count": 51,
   "metadata": {},
   "outputs": [],
   "source": [
    "X_train,    \\\n",
    "X_val,      \\\n",
    "y_train,    \\\n",
    "y_val = train_test_split(X, y, test_size=0.2, random_state=0)"
   ]
  },
  {
   "cell_type": "code",
   "execution_count": 52,
   "metadata": {},
   "outputs": [],
   "source": [
    "# Standardize input\n",
    "scaler = StandardScaler()\n",
    "X_train = scaler.fit_transform(X_train)\n",
    "X_val = scaler.transform(X_val)"
   ]
  },
  {
   "cell_type": "code",
   "execution_count": 54,
   "metadata": {},
   "outputs": [
    {
     "data": {
      "text/plain": [
       "array([[ 0.87668336,  0.79842885,  0.64412971,  0.12974277,  0.48853231,\n",
       "        -0.70326216, -1.42846826,  1.0724566 , -1.36820277,  0.35193216,\n",
       "         0.0290166 , -1.06412236, -0.2059076 ]])"
      ]
     },
     "execution_count": 54,
     "metadata": {},
     "output_type": "execute_result"
    }
   ],
   "source": [
    "X_train[:1]"
   ]
  },
  {
   "cell_type": "code",
   "execution_count": 57,
   "metadata": {},
   "outputs": [],
   "source": [
    "# param:\n",
    "#  0. binary classification\n",
    "#  1. model scale: 0.1\n",
    "#  2. epoch number: 10 (auto early-stop)\n",
    "#  3. number of latent factor: 4\n",
    "#  4. learning rate: 0.1\n",
    "#  5. regular lambda: 0.01\n",
    "#  6. use sgd optimization method\n",
    "#  7. evaluation metric: accuarcy\n",
    "fm_model = xl.FMModel(task='binary', init=0.1, \n",
    "                      epoch=10, k=4, lr=0.1, \n",
    "                      reg_lambda=0.01, opt='sgd', \n",
    "                      metric='acc')\n",
    "# Start to train\n",
    "fm_model.fit(X_train, \n",
    "             y_train, \n",
    "             eval_set=[X_val, y_val])\n",
    "\n",
    "# Generate predictions\n",
    "y_pred = fm_model.predict(X_val)"
   ]
  },
  {
   "cell_type": "code",
   "execution_count": 58,
   "metadata": {},
   "outputs": [
    {
     "data": {
      "text/plain": [
       "0.2053028592571119"
      ]
     },
     "execution_count": 58,
     "metadata": {},
     "output_type": "execute_result"
    }
   ],
   "source": [
    "log_loss(y_val, y_pred)"
   ]
  },
  {
   "cell_type": "markdown",
   "metadata": {},
   "source": [
    "## lr模型\n",
    "前两天花了点时间把xlearn的 c++ 代码，现在来开始使用"
   ]
  },
  {
   "cell_type": "code",
   "execution_count": 59,
   "metadata": {},
   "outputs": [
    {
     "data": {
      "text/html": [
       "<div>\n",
       "<style scoped>\n",
       "    .dataframe tbody tr th:only-of-type {\n",
       "        vertical-align: middle;\n",
       "    }\n",
       "\n",
       "    .dataframe tbody tr th {\n",
       "        vertical-align: top;\n",
       "    }\n",
       "\n",
       "    .dataframe thead th {\n",
       "        text-align: right;\n",
       "    }\n",
       "</style>\n",
       "<table border=\"1\" class=\"dataframe\">\n",
       "  <thead>\n",
       "    <tr style=\"text-align: right;\">\n",
       "      <th></th>\n",
       "      <th>label</th>\n",
       "      <th>clickTime</th>\n",
       "      <th>conversionTime</th>\n",
       "      <th>creativeID</th>\n",
       "      <th>userID</th>\n",
       "      <th>positionID</th>\n",
       "      <th>connectionType</th>\n",
       "      <th>telecomsOperator</th>\n",
       "      <th>day</th>\n",
       "      <th>adID_x</th>\n",
       "      <th>...</th>\n",
       "      <th>appID_y</th>\n",
       "      <th>appPlatform_y</th>\n",
       "      <th>appCategory</th>\n",
       "      <th>app_categories_first_class</th>\n",
       "      <th>app_categories_second_class</th>\n",
       "      <th>sitesetID</th>\n",
       "      <th>positionType</th>\n",
       "      <th>clickTime_day</th>\n",
       "      <th>clickTime_hour</th>\n",
       "      <th>clickTime_minute</th>\n",
       "    </tr>\n",
       "  </thead>\n",
       "  <tbody>\n",
       "    <tr>\n",
       "      <th>0</th>\n",
       "      <td>0</td>\n",
       "      <td>170000</td>\n",
       "      <td>NaN</td>\n",
       "      <td>3089</td>\n",
       "      <td>2798058</td>\n",
       "      <td>293</td>\n",
       "      <td>1</td>\n",
       "      <td>1</td>\n",
       "      <td>17</td>\n",
       "      <td>1321</td>\n",
       "      <td>...</td>\n",
       "      <td>434</td>\n",
       "      <td>1</td>\n",
       "      <td>108</td>\n",
       "      <td>1.0</td>\n",
       "      <td>8</td>\n",
       "      <td>0</td>\n",
       "      <td>3</td>\n",
       "      <td>17</td>\n",
       "      <td>0</td>\n",
       "      <td>0</td>\n",
       "    </tr>\n",
       "    <tr>\n",
       "      <th>1</th>\n",
       "      <td>0</td>\n",
       "      <td>180028</td>\n",
       "      <td>NaN</td>\n",
       "      <td>3089</td>\n",
       "      <td>1683269</td>\n",
       "      <td>293</td>\n",
       "      <td>2</td>\n",
       "      <td>3</td>\n",
       "      <td>18</td>\n",
       "      <td>1321</td>\n",
       "      <td>...</td>\n",
       "      <td>434</td>\n",
       "      <td>1</td>\n",
       "      <td>108</td>\n",
       "      <td>1.0</td>\n",
       "      <td>8</td>\n",
       "      <td>0</td>\n",
       "      <td>3</td>\n",
       "      <td>18</td>\n",
       "      <td>0</td>\n",
       "      <td>28</td>\n",
       "    </tr>\n",
       "    <tr>\n",
       "      <th>2</th>\n",
       "      <td>0</td>\n",
       "      <td>191045</td>\n",
       "      <td>NaN</td>\n",
       "      <td>3089</td>\n",
       "      <td>240899</td>\n",
       "      <td>293</td>\n",
       "      <td>1</td>\n",
       "      <td>2</td>\n",
       "      <td>19</td>\n",
       "      <td>1321</td>\n",
       "      <td>...</td>\n",
       "      <td>434</td>\n",
       "      <td>1</td>\n",
       "      <td>108</td>\n",
       "      <td>1.0</td>\n",
       "      <td>8</td>\n",
       "      <td>0</td>\n",
       "      <td>3</td>\n",
       "      <td>19</td>\n",
       "      <td>10</td>\n",
       "      <td>45</td>\n",
       "    </tr>\n",
       "    <tr>\n",
       "      <th>3</th>\n",
       "      <td>0</td>\n",
       "      <td>181600</td>\n",
       "      <td>NaN</td>\n",
       "      <td>4280</td>\n",
       "      <td>1355004</td>\n",
       "      <td>293</td>\n",
       "      <td>1</td>\n",
       "      <td>1</td>\n",
       "      <td>18</td>\n",
       "      <td>3168</td>\n",
       "      <td>...</td>\n",
       "      <td>434</td>\n",
       "      <td>1</td>\n",
       "      <td>108</td>\n",
       "      <td>1.0</td>\n",
       "      <td>8</td>\n",
       "      <td>0</td>\n",
       "      <td>3</td>\n",
       "      <td>18</td>\n",
       "      <td>16</td>\n",
       "      <td>0</td>\n",
       "    </tr>\n",
       "    <tr>\n",
       "      <th>4</th>\n",
       "      <td>0</td>\n",
       "      <td>192007</td>\n",
       "      <td>NaN</td>\n",
       "      <td>4280</td>\n",
       "      <td>1122390</td>\n",
       "      <td>293</td>\n",
       "      <td>1</td>\n",
       "      <td>2</td>\n",
       "      <td>19</td>\n",
       "      <td>3168</td>\n",
       "      <td>...</td>\n",
       "      <td>434</td>\n",
       "      <td>1</td>\n",
       "      <td>108</td>\n",
       "      <td>1.0</td>\n",
       "      <td>8</td>\n",
       "      <td>0</td>\n",
       "      <td>3</td>\n",
       "      <td>19</td>\n",
       "      <td>20</td>\n",
       "      <td>7</td>\n",
       "    </tr>\n",
       "  </tbody>\n",
       "</table>\n",
       "<p>5 rows × 34 columns</p>\n",
       "</div>"
      ],
      "text/plain": [
       "   label  clickTime  conversionTime  creativeID   userID  positionID  \\\n",
       "0      0     170000             NaN        3089  2798058         293   \n",
       "1      0     180028             NaN        3089  1683269         293   \n",
       "2      0     191045             NaN        3089   240899         293   \n",
       "3      0     181600             NaN        4280  1355004         293   \n",
       "4      0     192007             NaN        4280  1122390         293   \n",
       "\n",
       "   connectionType  telecomsOperator  day  adID_x        ...         appID_y  \\\n",
       "0               1                 1   17    1321        ...             434   \n",
       "1               2                 3   18    1321        ...             434   \n",
       "2               1                 2   19    1321        ...             434   \n",
       "3               1                 1   18    3168        ...             434   \n",
       "4               1                 2   19    3168        ...             434   \n",
       "\n",
       "   appPlatform_y  appCategory  app_categories_first_class  \\\n",
       "0              1          108                         1.0   \n",
       "1              1          108                         1.0   \n",
       "2              1          108                         1.0   \n",
       "3              1          108                         1.0   \n",
       "4              1          108                         1.0   \n",
       "\n",
       "   app_categories_second_class  sitesetID  positionType  clickTime_day  \\\n",
       "0                            8          0             3             17   \n",
       "1                            8          0             3             18   \n",
       "2                            8          0             3             19   \n",
       "3                            8          0             3             18   \n",
       "4                            8          0             3             19   \n",
       "\n",
       "   clickTime_hour  clickTime_minute  \n",
       "0               0                 0  \n",
       "1               0                28  \n",
       "2              10                45  \n",
       "3              16                 0  \n",
       "4              20                 7  \n",
       "\n",
       "[5 rows x 34 columns]"
      ]
     },
     "execution_count": 59,
     "metadata": {},
     "output_type": "execute_result"
    }
   ],
   "source": [
    "dfTrainUserAdPos.head()"
   ]
  },
  {
   "cell_type": "code",
   "execution_count": 79,
   "metadata": {},
   "outputs": [
    {
     "name": "stdout",
     "output_type": "stream",
     "text": [
      "label : 2\n",
      "clickTime : 20160\n",
      "conversionTime : 18207\n",
      "creativeID : 6315\n",
      "userID : 2595627\n",
      "positionID : 7219\n",
      "connectionType : 5\n",
      "telecomsOperator : 4\n",
      "age : 81\n",
      "gender : 3\n",
      "education : 8\n",
      "marriageStatus : 4\n",
      "haveBaby : 7\n",
      "hometown : 365\n",
      "residence : 399\n",
      "adID : 3447\n",
      "camgaignID : 677\n",
      "advertiserID : 89\n",
      "appID : 50\n",
      "appPlatform : 2\n",
      "appCategory : 14\n",
      "app_categories_first_class : 7\n",
      "app_categories_second_class : 9\n",
      "sitesetID : 3\n",
      "positionType : 6\n",
      "clickTime_day : 14\n",
      "clickTime_hour : 24\n",
      "clickTime_minute : 60\n"
     ]
    }
   ],
   "source": [
    "# 在所有的column中，先对特殊列进行 one-hot encode\n",
    "for column in dfTrainUserAdPos.columns:\n",
    "    print(column,\":\", dfTrainUserAdPos[column].unique().shape[0])"
   ]
  },
  {
   "cell_type": "markdown",
   "metadata": {},
   "source": [
    "下面我们讨论下什么时候需要对这个变量进行embedding，假设不做embedding，需要的参数数量是 n * m，做完embedding后，参数数量是 (m+n) * k ，此时如果 n * m > (m+n) * k ，并且 n == m， 则有：\n",
    "\n",
    "n > 2k\n",
    "\n",
    "下面我们按照 k = 10的标准来取的话, n 至少为20才需要embedding，但是如果 n 太大，大于100的话，我们也不做embedding，因为维数太高了。"
   ]
  },
  {
   "cell_type": "code",
   "execution_count": 107,
   "metadata": {},
   "outputs": [],
   "source": [
    "columns = [ 'connectionType', 'telecomsOperator', 'gender', 'education', 'marriageStatus', 'haveBaby', \n",
    "            'hometown_province', 'hometown_city',\n",
    "       'residence_province', 'residence_city', 'appID', 'appPlatform', 'appCategory',\n",
    "       'app_categories_first_class', 'app_categories_second_class',\n",
    "       'sitesetID', 'positionType','clickTime_hour']\n",
    "# 会根据 clickTime_day 来做 train-val 集合切分"
   ]
  },
  {
   "cell_type": "code",
   "execution_count": 88,
   "metadata": {},
   "outputs": [
    {
     "name": "stdout",
     "output_type": "stream",
     "text": [
      "connectionType : 5\n",
      "telecomsOperator : 4\n",
      "gender : 3\n",
      "education : 8\n",
      "marriageStatus : 4\n",
      "haveBaby : 7\n",
      "hometown_province : 39\n",
      "hometown_city : 17\n",
      "residence_province : 39\n",
      "residence_city : 19\n",
      "appID : 50\n",
      "appPlatform : 2\n",
      "appCategory : 14\n",
      "app_categories_first_class : 7\n",
      "app_categories_second_class : 9\n",
      "sitesetID : 3\n",
      "positionType : 6\n",
      "clickTime_day : 14\n",
      "clickTime_hour : 24\n"
     ]
    }
   ],
   "source": [
    "for column in columns:\n",
    "    print(column,\":\", dfTrainUserAdPos[column].unique().shape[0])"
   ]
  },
  {
   "cell_type": "code",
   "execution_count": 62,
   "metadata": {},
   "outputs": [
    {
     "name": "stdout",
     "output_type": "stream",
     "text": [
      "86954 3328177\n"
     ]
    }
   ],
   "source": [
    "# 统计下 正 负 样本数\n",
    "postive_num = dfTrainUserAdPos[(dfTrainUserAdPos.label==1)].shape[0]\n",
    "negative_num = dfTrainUserAdPos[(dfTrainUserAdPos.label==0)].shape[0]\n",
    "print(postive_num,negative_num)"
   ]
  },
  {
   "cell_type": "code",
   "execution_count": 93,
   "metadata": {},
   "outputs": [],
   "source": [
    "# sparseMatrix = pd.get_dummies(dfTrainUserAdPos['label'],prefix='label',sparse=True)"
   ]
  },
  {
   "cell_type": "code",
   "execution_count": 94,
   "metadata": {},
   "outputs": [
    {
     "data": {
      "text/html": [
       "<div>\n",
       "<style scoped>\n",
       "    .dataframe tbody tr th:only-of-type {\n",
       "        vertical-align: middle;\n",
       "    }\n",
       "\n",
       "    .dataframe tbody tr th {\n",
       "        vertical-align: top;\n",
       "    }\n",
       "\n",
       "    .dataframe thead th {\n",
       "        text-align: right;\n",
       "    }\n",
       "</style>\n",
       "<table border=\"1\" class=\"dataframe\">\n",
       "  <thead>\n",
       "    <tr style=\"text-align: right;\">\n",
       "      <th></th>\n",
       "      <th>label_0</th>\n",
       "      <th>label_1</th>\n",
       "    </tr>\n",
       "  </thead>\n",
       "  <tbody>\n",
       "    <tr>\n",
       "      <th>0</th>\n",
       "      <td>1</td>\n",
       "      <td>0</td>\n",
       "    </tr>\n",
       "    <tr>\n",
       "      <th>1</th>\n",
       "      <td>1</td>\n",
       "      <td>0</td>\n",
       "    </tr>\n",
       "    <tr>\n",
       "      <th>2</th>\n",
       "      <td>1</td>\n",
       "      <td>0</td>\n",
       "    </tr>\n",
       "    <tr>\n",
       "      <th>3</th>\n",
       "      <td>1</td>\n",
       "      <td>0</td>\n",
       "    </tr>\n",
       "    <tr>\n",
       "      <th>4</th>\n",
       "      <td>1</td>\n",
       "      <td>0</td>\n",
       "    </tr>\n",
       "  </tbody>\n",
       "</table>\n",
       "</div>"
      ],
      "text/plain": [
       "   label_0  label_1\n",
       "0        1        0\n",
       "1        1        0\n",
       "2        1        0\n",
       "3        1        0\n",
       "4        1        0"
      ]
     },
     "execution_count": 94,
     "metadata": {},
     "output_type": "execute_result"
    }
   ],
   "source": [
    "# sparseMatrix.head()"
   ]
  },
  {
   "cell_type": "code",
   "execution_count": null,
   "metadata": {},
   "outputs": [],
   "source": [
    "# sparseMatrix = sparse.coo_matrix()"
   ]
  },
  {
   "cell_type": "code",
   "execution_count": 108,
   "metadata": {},
   "outputs": [],
   "source": [
    "# sparseMatrix = sparse.coo_matrix()\n",
    "for i, column in enumerate(columns):\n",
    "    if (i == 0):\n",
    "        sparseMatrix = pd.get_dummies(dfTrainUserAdPos[column],prefix=column,sparse=True)\n",
    "    else:    \n",
    "        sparseMatrix = sparse.hstack([sparseMatrix, pd.get_dummies(dfTrainUserAdPos[column],prefix=column,sparse=True)])"
   ]
  },
  {
   "cell_type": "code",
   "execution_count": 109,
   "metadata": {},
   "outputs": [
    {
     "data": {
      "text/plain": [
       "scipy.sparse.coo.coo_matrix"
      ]
     },
     "execution_count": 109,
     "metadata": {},
     "output_type": "execute_result"
    }
   ],
   "source": [
    "type(sparseMatrix)"
   ]
  },
  {
   "cell_type": "code",
   "execution_count": 118,
   "metadata": {},
   "outputs": [],
   "source": [
    "sparseMatrixCsr = sparseMatrix.tocsr()"
   ]
  },
  {
   "cell_type": "markdown",
   "metadata": {},
   "source": [
    "有了稀疏矩阵后，我们下一步开始对数据进行 train-val 拆分"
   ]
  },
  {
   "cell_type": "code",
   "execution_count": 111,
   "metadata": {},
   "outputs": [
    {
     "data": {
      "text/plain": [
       "array([17, 18, 19, 21, 22, 20, 28, 24, 26, 27, 23, 25, 29, 30])"
      ]
     },
     "execution_count": 111,
     "metadata": {},
     "output_type": "execute_result"
    }
   ],
   "source": [
    "dfTrainUserAdPos.clickTime_day.unique()"
   ]
  },
  {
   "cell_type": "code",
   "execution_count": 114,
   "metadata": {},
   "outputs": [],
   "source": [
    "trainIndex = np.where(dfTrainUserAdPos.clickTime_day <30)\n",
    "valIndex = np.where(dfTrainUserAdPos.clickTime_day ==30)"
   ]
  },
  {
   "cell_type": "code",
   "execution_count": 116,
   "metadata": {},
   "outputs": [
    {
     "data": {
      "text/plain": [
       "tuple"
      ]
     },
     "execution_count": 116,
     "metadata": {},
     "output_type": "execute_result"
    }
   ],
   "source": [
    "type(trainIndex)"
   ]
  },
  {
   "cell_type": "code",
   "execution_count": 122,
   "metadata": {},
   "outputs": [],
   "source": [
    "valX=sparseMatrixCsr[valIndex]"
   ]
  },
  {
   "cell_type": "code",
   "execution_count": 123,
   "metadata": {},
   "outputs": [],
   "source": [
    "trainX=sparseMatrixCsr[trainIndex]"
   ]
  },
  {
   "cell_type": "code",
   "execution_count": 136,
   "metadata": {},
   "outputs": [],
   "source": [
    "trainY = dfTrainUserAdPos.loc[trainIndex]['label'].values"
   ]
  },
  {
   "cell_type": "code",
   "execution_count": 138,
   "metadata": {},
   "outputs": [],
   "source": [
    "valY = dfTrainUserAdPos.loc[valIndex]['label'].values"
   ]
  },
  {
   "cell_type": "code",
   "execution_count": 139,
   "metadata": {},
   "outputs": [
    {
     "data": {
      "text/plain": [
       "<3415131x259 sparse matrix of type '<class 'numpy.uint8'>'\n",
       "\twith 61028530 stored elements in Compressed Sparse Row format>"
      ]
     },
     "execution_count": 139,
     "metadata": {},
     "output_type": "execute_result"
    }
   ],
   "source": [
    "# trainX.tocsc()"
   ]
  },
  {
   "cell_type": "markdown",
   "metadata": {},
   "source": [
    "上面的部分我们解决了输入的的问题，下面我们开始使用模型"
   ]
  },
  {
   "cell_type": "code",
   "execution_count": null,
   "metadata": {},
   "outputs": [],
   "source": [
    "trainX"
   ]
  },
  {
   "cell_type": "code",
   "execution_count": 163,
   "metadata": {},
   "outputs": [],
   "source": [
    "# param:\n",
    "#  0. binary classification\n",
    "#  1. model scale: 0.1\n",
    "#  2. epoch number: 10 (auto early-stop)\n",
    "#  3. learning rate: 0.1\n",
    "#  4. regular lambda: 1.0\n",
    "#  5. use sgd optimization method\n",
    "linear_model = xl.LRModel(task='binary', init=0.1,\n",
    "                          epoch=10, lr=0.1,\n",
    "                          reg_lambda=1.0, opt='sgd')"
   ]
  },
  {
   "cell_type": "code",
   "execution_count": 155,
   "metadata": {},
   "outputs": [
    {
     "data": {
      "text/plain": [
       "(3415131, 3415131)"
      ]
     },
     "execution_count": 155,
     "metadata": {},
     "output_type": "execute_result"
    }
   ],
   "source": [
    "trainX.shape[0],len(trainY)"
   ]
  },
  {
   "cell_type": "code",
   "execution_count": 164,
   "metadata": {},
   "outputs": [],
   "source": [
    "linear_model.fit(trainX,trainY,eval_set=[valX,valY])"
   ]
  },
  {
   "cell_type": "code",
   "execution_count": 165,
   "metadata": {},
   "outputs": [],
   "source": [
    "y_pred = fm_model.predict(valX)"
   ]
  },
  {
   "cell_type": "code",
   "execution_count": 166,
   "metadata": {},
   "outputs": [
    {
     "data": {
      "text/plain": [
       "array([nan, nan, nan, ..., nan, nan, nan])"
      ]
     },
     "execution_count": 166,
     "metadata": {},
     "output_type": "execute_result"
    }
   ],
   "source": [
    "y_pred"
   ]
  },
  {
   "cell_type": "code",
   "execution_count": 159,
   "metadata": {},
   "outputs": [
    {
     "data": {
      "text/plain": [
       "5.130632432722019"
      ]
     },
     "execution_count": 159,
     "metadata": {},
     "output_type": "execute_result"
    }
   ],
   "source": [
    "log_loss(valY, y_pred)"
   ]
  },
  {
   "cell_type": "code",
   "execution_count": 160,
   "metadata": {},
   "outputs": [
    {
     "data": {
      "text/plain": [
       "array([0, 0, 0, ..., 0, 0, 0])"
      ]
     },
     "execution_count": 160,
     "metadata": {},
     "output_type": "execute_result"
    }
   ],
   "source": [
    "valY"
   ]
  },
  {
   "cell_type": "code",
   "execution_count": 168,
   "metadata": {},
   "outputs": [
    {
     "name": "stdout",
     "output_type": "stream",
     "text": [
      "     March 2108\n",
      "Mo Tu We Th Fr Sa Su\n",
      "          1  2  3  4\n",
      " 5  6  7  8  9 10 11\n",
      "12 13 14 15 16 17 18\n",
      "19 20 21 22 23 24 25\n",
      "26 27 28 29 30 31\n",
      "\n"
     ]
    }
   ],
   "source": [
    "import calendar\n",
    "\n",
    "cal = calendar.month(2108, 3)\n",
    "print(cal);"
   ]
  },
  {
   "cell_type": "code",
   "execution_count": 175,
   "metadata": {},
   "outputs": [
    {
     "data": {
      "text/plain": [
       "31"
      ]
     },
     "execution_count": 175,
     "metadata": {},
     "output_type": "execute_result"
    }
   ],
   "source": [
    "days = calendar.monthrange(2018,3)[1]\n",
    "days"
   ]
  },
  {
   "cell_type": "code",
   "execution_count": 184,
   "metadata": {},
   "outputs": [],
   "source": [
    "# calendar.weekday(2018,3,1)\n",
    "def getWeekDayInMonth(year, month):\n",
    "    weekdays = []\n",
    "    days = calendar.monthrange(year,month)[1]\n",
    "    for day in range(days):\n",
    "        dayInMonth = calendar.weekday(year,month,day+1)\n",
    "        if dayInMonth < 6:\n",
    "#             print(\"{}-{}\".format(month, day+1))\n",
    "            weekdays.append(\"{}-{}\".format(month, day+1))\n",
    "    print(\",\".join(weekdays[:20]))"
   ]
  },
  {
   "cell_type": "code",
   "execution_count": 185,
   "metadata": {},
   "outputs": [
    {
     "name": "stdout",
     "output_type": "stream",
     "text": [
      "3-1,3-2,3-3,3-5,3-6,3-7,3-8,3-9,3-10,3-12,3-13,3-14,3-15,3-16,3-17,3-19,3-20,3-21,3-22,3-23\n"
     ]
    }
   ],
   "source": [
    "getWeekDayInMonth(2018,3)"
   ]
  },
  {
   "cell_type": "code",
   "execution_count": 173,
   "metadata": {},
   "outputs": [
    {
     "data": {
      "text/plain": [
       "(3, 31)"
      ]
     },
     "execution_count": 173,
     "metadata": {},
     "output_type": "execute_result"
    }
   ],
   "source": [
    "calendar.monthrange(2018,3)"
   ]
  },
  {
   "cell_type": "code",
   "execution_count": 186,
   "metadata": {},
   "outputs": [
    {
     "name": "stdout",
     "output_type": "stream",
     "text": [
      "0-特征工程.ipynb\t  2-协同过滤版本.ipynb\r\n",
      "1.problem_setting.ipynb   3.feature_engineering_and_machine_learning.ipynb\r\n",
      "1-数据处理.ipynb\t  3-分解机FM.ipynb\r\n",
      "2.Baseline_version.ipynb  pre\r\n"
     ]
    }
   ],
   "source": [
    "!ls"
   ]
  },
  {
   "cell_type": "code",
   "execution_count": 192,
   "metadata": {},
   "outputs": [],
   "source": [
    "import os\n",
    "import re"
   ]
  },
  {
   "cell_type": "code",
   "execution_count": 191,
   "metadata": {},
   "outputs": [
    {
     "name": "stdout",
     "output_type": "stream",
     "text": [
      "./ ['pre', '.ipynb_checkpoints'] ['1-数据处理.ipynb', '3.feature_engineering_and_machine_learning.ipynb', '2-协同过滤版本.ipynb', '2.Baseline_version.ipynb', '1.problem_setting.ipynb', '3-分解机FM.ipynb', '0-特征工程.ipynb']\n",
      "./pre [] ['test.csv', 'ad.csv', 'app_categories.csv', 'train.csv', 'user.csv', 'user_installedapps.csv', 'position.csv', 'valAll.pkl', 'trainAll.pkl', 'user_app_actions.csv']\n",
      "./.ipynb_checkpoints [] ['3-分解机FM-checkpoint.ipynb', '3.feature_engineering_and_machine_learning-checkpoint.ipynb', '2.Baseline_version-checkpoint.ipynb', '0-特征工程-checkpoint.ipynb', '2-协同过滤版本-checkpoint.ipynb', '1.problem_setting-checkpoint.ipynb', '1-数据处理-checkpoint.ipynb']\n"
     ]
    }
   ],
   "source": [
    "import os\n",
    "import re\n",
    "for root, dirs, files in os.walk(\"./\"):\n",
    "#     print(root,dirs, files)\n",
    "    for file in files:\n",
    "        if file.endwith(\"pptx\") && \"锐旗设计\" in file:\n",
    "            newName = re.sub(\"锐旗设计\\[%d+\\]\",\"\",file)\n",
    "            print(newName)"
   ]
  },
  {
   "cell_type": "code",
   "execution_count": 195,
   "metadata": {},
   "outputs": [
    {
     "data": {
      "text/plain": [
       "'动态—年终总结(01)—[179].pptx'"
      ]
     },
     "execution_count": 195,
     "metadata": {},
     "output_type": "execute_result"
    }
   ],
   "source": [
    "re.sub(r\"锐旗设计\\[\\d+\\]\",\"\",\"动态—年终总结(01)—锐旗设计[179].pptx\")"
   ]
  },
  {
   "cell_type": "code",
   "execution_count": null,
   "metadata": {},
   "outputs": [],
   "source": [
    "re."
   ]
  }
 ],
 "metadata": {
  "kernelspec": {
   "display_name": "Python 3",
   "language": "python",
   "name": "python3"
  },
  "language_info": {
   "codemirror_mode": {
    "name": "ipython",
    "version": 3
   },
   "file_extension": ".py",
   "mimetype": "text/x-python",
   "name": "python",
   "nbconvert_exporter": "python",
   "pygments_lexer": "ipython3",
   "version": "3.6.4"
  }
 },
 "nbformat": 4,
 "nbformat_minor": 2
}
