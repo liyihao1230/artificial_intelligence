{
 "cells": [
  {
   "cell_type": "markdown",
   "metadata": {},
   "source": [
    "# user_based协同过滤算法简单实现"
   ]
  },
  {
   "cell_type": "markdown",
   "metadata": {},
   "source": [
    "## 1. userId, movieId矩阵\n",
    "## 2. 用户用户相关性矩阵(pearson)\n",
    "## 3. pearson作为权重*rating得到推荐score\n",
    "## 4. 展示top-5的movieId"
   ]
  },
  {
   "cell_type": "code",
   "execution_count": 1,
   "metadata": {},
   "outputs": [],
   "source": [
    "import sys,os\n",
    "import numpy as np\n",
    "import pandas as pd\n",
    "import math"
   ]
  },
  {
   "cell_type": "code",
   "execution_count": 8,
   "metadata": {},
   "outputs": [
    {
     "name": "stderr",
     "output_type": "stream",
     "text": [
      "/Users/yihaoli/opt/anaconda3/lib/python3.7/site-packages/ipykernel_launcher.py:5: ParserWarning: Falling back to the 'python' engine because the 'c' engine does not support regex separators (separators > 1 char and different from '\\s+' are interpreted as regex); you can avoid this warning by specifying engine='python'.\n",
      "  \"\"\"\n"
     ]
    }
   ],
   "source": [
    "# df = pd.read_csv('/Users/yihaoli/Desktop/dataset/movielens-20m-dataset/rating.csv')\n",
    "# df = df[list(df.columns)[:-1]]\n",
    "# # 数据量太大, 先拿10000条做测试\n",
    "# df = df.head(10000)\n",
    "df = pd.read_table('/Users/yihaoli/Desktop/dataset/movielens-1m-dataset/ratings.dat',header=None,sep='::')\n",
    "df = df[list(df.columns)[:-1]]\n",
    "df = df.rename(columns = {0:'userId',1:'movieId',2:'rating'})"
   ]
  },
  {
   "cell_type": "code",
   "execution_count": 9,
   "metadata": {},
   "outputs": [
    {
     "name": "stdout",
     "output_type": "stream",
     "text": [
      "<class 'pandas.core.frame.DataFrame'>\n",
      "RangeIndex: 1000209 entries, 0 to 1000208\n",
      "Data columns (total 3 columns):\n",
      "userId     1000209 non-null int64\n",
      "movieId    1000209 non-null int64\n",
      "rating     1000209 non-null int64\n",
      "dtypes: int64(3)\n",
      "memory usage: 22.9 MB\n"
     ]
    }
   ],
   "source": [
    "df.info()"
   ]
  },
  {
   "cell_type": "code",
   "execution_count": 10,
   "metadata": {},
   "outputs": [
    {
     "data": {
      "text/html": [
       "<div>\n",
       "<style scoped>\n",
       "    .dataframe tbody tr th:only-of-type {\n",
       "        vertical-align: middle;\n",
       "    }\n",
       "\n",
       "    .dataframe tbody tr th {\n",
       "        vertical-align: top;\n",
       "    }\n",
       "\n",
       "    .dataframe thead th {\n",
       "        text-align: right;\n",
       "    }\n",
       "</style>\n",
       "<table border=\"1\" class=\"dataframe\">\n",
       "  <thead>\n",
       "    <tr style=\"text-align: right;\">\n",
       "      <th></th>\n",
       "      <th></th>\n",
       "      <th>rating</th>\n",
       "    </tr>\n",
       "    <tr>\n",
       "      <th>userId</th>\n",
       "      <th>movieId</th>\n",
       "      <th></th>\n",
       "    </tr>\n",
       "  </thead>\n",
       "  <tbody>\n",
       "    <tr>\n",
       "      <td>1</td>\n",
       "      <td>1</td>\n",
       "      <td>1</td>\n",
       "    </tr>\n",
       "    <tr>\n",
       "      <td rowspan=\"4\" valign=\"top\">4013</td>\n",
       "      <td>3578</td>\n",
       "      <td>1</td>\n",
       "    </tr>\n",
       "    <tr>\n",
       "      <td>3698</td>\n",
       "      <td>1</td>\n",
       "    </tr>\n",
       "    <tr>\n",
       "      <td>3699</td>\n",
       "      <td>1</td>\n",
       "    </tr>\n",
       "    <tr>\n",
       "      <td>3705</td>\n",
       "      <td>1</td>\n",
       "    </tr>\n",
       "    <tr>\n",
       "      <td>...</td>\n",
       "      <td>...</td>\n",
       "      <td>...</td>\n",
       "    </tr>\n",
       "    <tr>\n",
       "      <td rowspan=\"4\" valign=\"top\">1968</td>\n",
       "      <td>1641</td>\n",
       "      <td>1</td>\n",
       "    </tr>\n",
       "    <tr>\n",
       "      <td>1644</td>\n",
       "      <td>1</td>\n",
       "    </tr>\n",
       "    <tr>\n",
       "      <td>1645</td>\n",
       "      <td>1</td>\n",
       "    </tr>\n",
       "    <tr>\n",
       "      <td>1660</td>\n",
       "      <td>1</td>\n",
       "    </tr>\n",
       "    <tr>\n",
       "      <td>6040</td>\n",
       "      <td>3819</td>\n",
       "      <td>1</td>\n",
       "    </tr>\n",
       "  </tbody>\n",
       "</table>\n",
       "<p>1000209 rows × 1 columns</p>\n",
       "</div>"
      ],
      "text/plain": [
       "                rating\n",
       "userId movieId        \n",
       "1      1             1\n",
       "4013   3578          1\n",
       "       3698          1\n",
       "       3699          1\n",
       "       3705          1\n",
       "...                ...\n",
       "1968   1641          1\n",
       "       1644          1\n",
       "       1645          1\n",
       "       1660          1\n",
       "6040   3819          1\n",
       "\n",
       "[1000209 rows x 1 columns]"
      ]
     },
     "execution_count": 10,
     "metadata": {},
     "output_type": "execute_result"
    }
   ],
   "source": [
    "# 查看是否存在重复评价的情况\n",
    "# 不存在\n",
    "df.groupby(['userId','movieId']).count().sort_values('rating',ascending = False)"
   ]
  },
  {
   "cell_type": "code",
   "execution_count": 11,
   "metadata": {},
   "outputs": [],
   "source": [
    "index = list(df.groupby('userId').count().reset_index().sort_values('userId')['userId'])"
   ]
  },
  {
   "cell_type": "code",
   "execution_count": 12,
   "metadata": {},
   "outputs": [],
   "source": [
    "column = list(df.groupby('movieId').count().reset_index().sort_values('movieId')['movieId'])"
   ]
  },
  {
   "cell_type": "code",
   "execution_count": 13,
   "metadata": {},
   "outputs": [
    {
     "data": {
      "text/plain": [
       "6040"
      ]
     },
     "execution_count": 13,
     "metadata": {},
     "output_type": "execute_result"
    }
   ],
   "source": [
    "len(index)"
   ]
  },
  {
   "cell_type": "code",
   "execution_count": 14,
   "metadata": {},
   "outputs": [
    {
     "data": {
      "text/plain": [
       "3706"
      ]
     },
     "execution_count": 14,
     "metadata": {},
     "output_type": "execute_result"
    }
   ],
   "source": [
    "len(column)"
   ]
  },
  {
   "cell_type": "code",
   "execution_count": 15,
   "metadata": {},
   "outputs": [],
   "source": [
    "user_item = pd.DataFrame(index = index, columns = column)"
   ]
  },
  {
   "cell_type": "code",
   "execution_count": null,
   "metadata": {},
   "outputs": [],
   "source": [
    "for line in df.itertuples():\n",
    "    user_item.loc[line[1],line[2]] = line[3]"
   ]
  },
  {
   "cell_type": "code",
   "execution_count": null,
   "metadata": {},
   "outputs": [],
   "source": [
    "user_item.loc[3,1] is not np.nan"
   ]
  },
  {
   "cell_type": "code",
   "execution_count": null,
   "metadata": {},
   "outputs": [],
   "source": [
    "user_user = pd.DataFrame(index = index, columns = index)"
   ]
  },
  {
   "cell_type": "code",
   "execution_count": null,
   "metadata": {},
   "outputs": [],
   "source": [
    "def get_pearson(column,user1,user2):\n",
    "    sum_xy = 0  \n",
    "    sum_x = 0  \n",
    "    sum_y = 0  \n",
    "    sum_x2 = 0  \n",
    "    sum_y2 = 0  \n",
    "    n = 0  \n",
    "    for c in column:\n",
    "        if user_item.loc[user1,c] is not np.nan and user_item.loc[user2,c] is not np.nan:\n",
    "            n += 1\n",
    "            x = user_item.loc[user1,c]\n",
    "            y = user_item.loc[user2,c]  \n",
    "            sum_xy += x * y  \n",
    "            sum_x += x  \n",
    "            sum_y += y  \n",
    "            sum_x2 += pow(x, 2)  \n",
    "            sum_y2 += pow(y, 2)  \n",
    "    if n == 0:  \n",
    "        return 0  \n",
    "    #皮尔逊相关系数计算公式 \n",
    "    denominator = math.sqrt(sum_x2 - pow(sum_x, 2) / n) * math.sqrt(sum_y2 - pow(sum_y, 2) / n)  \n",
    "    if denominator == 0:  \n",
    "        return 0  \n",
    "    else:  \n",
    "        return (sum_xy - (sum_x * sum_y) / n) / denominator"
   ]
  },
  {
   "cell_type": "code",
   "execution_count": null,
   "metadata": {},
   "outputs": [],
   "source": [
    "for user1 in index:\n",
    "    for user2 in index:\n",
    "        user_user.loc[user1,user2] = user_user.loc[user2,user1] = get_pearson(column,user1,user2)"
   ]
  },
  {
   "cell_type": "code",
   "execution_count": null,
   "metadata": {},
   "outputs": [],
   "source": [
    "user_user"
   ]
  },
  {
   "cell_type": "code",
   "execution_count": null,
   "metadata": {},
   "outputs": [],
   "source": [
    "user_item_recom = pd.DataFrame(index = index, columns=column)"
   ]
  },
  {
   "cell_type": "code",
   "execution_count": null,
   "metadata": {},
   "outputs": [],
   "source": [
    "def get_score(user_item,user_user,user,item,index):\n",
    "    score = 0\n",
    "    total_weight = 0\n",
    "    if user_item.loc[user,item] is not np.nan:\n",
    "        return 0\n",
    "    for i in index:\n",
    "        if user_item.loc[i,item] is not np.nan and user_user.loc[i,user] > 0:\n",
    "            score = score + user_item.loc[i,item]*user_user.loc[i,user]\n",
    "            total_weight+=user_user.loc[i,user]\n",
    "    return score/total_weight"
   ]
  },
  {
   "cell_type": "code",
   "execution_count": null,
   "metadata": {},
   "outputs": [],
   "source": [
    "for user in index:\n",
    "    print('user: %d'%user)\n",
    "    for item in column:\n",
    "        user_item_recom.loc[user,item] = get_score(user_item,user_user,user,item,index)"
   ]
  },
  {
   "cell_type": "code",
   "execution_count": null,
   "metadata": {},
   "outputs": [],
   "source": [
    "user_item_recom = user_item_recom.astype(float)"
   ]
  },
  {
   "cell_type": "code",
   "execution_count": null,
   "metadata": {},
   "outputs": [],
   "source": [
    "user_item_recom"
   ]
  },
  {
   "cell_type": "code",
   "execution_count": 68,
   "metadata": {},
   "outputs": [],
   "source": [
    "user_item_recom = user_item_recom.T"
   ]
  },
  {
   "cell_type": "code",
   "execution_count": 77,
   "metadata": {},
   "outputs": [
    {
     "data": {
      "text/plain": [
       "[480, 110, 356, 588, 527]"
      ]
     },
     "execution_count": 77,
     "metadata": {},
     "output_type": "execute_result"
    }
   ],
   "source": [
    "# The top-5 recom movieId for userId 1\n",
    "list(user_item_recom.sort_values(1,ascending = False)[1].head(5).index)"
   ]
  },
  {
   "cell_type": "code",
   "execution_count": 78,
   "metadata": {},
   "outputs": [],
   "source": [
    "def get_top5(user,user_item_recom):\n",
    "    return list(user_item_recom.sort_values(user,ascending = False)[user].head(5).index)"
   ]
  },
  {
   "cell_type": "code",
   "execution_count": 79,
   "metadata": {},
   "outputs": [],
   "source": [
    "top5_recom = pd.DataFrame(index = index, columns = [1,2,3,4,5])"
   ]
  },
  {
   "cell_type": "code",
   "execution_count": 81,
   "metadata": {},
   "outputs": [],
   "source": [
    "for user in index:\n",
    "    five_top = get_top5(user,user_item_recom)\n",
    "    for i in range(len(five_top)):\n",
    "        top5_recom.loc[user,i+1] = five_top[i]"
   ]
  },
  {
   "cell_type": "code",
   "execution_count": 82,
   "metadata": {},
   "outputs": [
    {
     "data": {
      "text/html": [
       "<div>\n",
       "<style scoped>\n",
       "    .dataframe tbody tr th:only-of-type {\n",
       "        vertical-align: middle;\n",
       "    }\n",
       "\n",
       "    .dataframe tbody tr th {\n",
       "        vertical-align: top;\n",
       "    }\n",
       "\n",
       "    .dataframe thead th {\n",
       "        text-align: right;\n",
       "    }\n",
       "</style>\n",
       "<table border=\"1\" class=\"dataframe\">\n",
       "  <thead>\n",
       "    <tr style=\"text-align: right;\">\n",
       "      <th></th>\n",
       "      <th>1</th>\n",
       "      <th>2</th>\n",
       "      <th>3</th>\n",
       "      <th>4</th>\n",
       "      <th>5</th>\n",
       "    </tr>\n",
       "  </thead>\n",
       "  <tbody>\n",
       "    <tr>\n",
       "      <td>1</td>\n",
       "      <td>480</td>\n",
       "      <td>110</td>\n",
       "      <td>356</td>\n",
       "      <td>588</td>\n",
       "      <td>527</td>\n",
       "    </tr>\n",
       "    <tr>\n",
       "      <td>2</td>\n",
       "      <td>356</td>\n",
       "      <td>780</td>\n",
       "      <td>593</td>\n",
       "      <td>318</td>\n",
       "      <td>457</td>\n",
       "    </tr>\n",
       "    <tr>\n",
       "      <td>3</td>\n",
       "      <td>356</td>\n",
       "      <td>296</td>\n",
       "      <td>110</td>\n",
       "      <td>608</td>\n",
       "      <td>47</td>\n",
       "    </tr>\n",
       "    <tr>\n",
       "      <td>4</td>\n",
       "      <td>296</td>\n",
       "      <td>590</td>\n",
       "      <td>110</td>\n",
       "      <td>593</td>\n",
       "      <td>260</td>\n",
       "    </tr>\n",
       "    <tr>\n",
       "      <td>5</td>\n",
       "      <td>356</td>\n",
       "      <td>2571</td>\n",
       "      <td>2028</td>\n",
       "      <td>1197</td>\n",
       "      <td>296</td>\n",
       "    </tr>\n",
       "    <tr>\n",
       "      <td>...</td>\n",
       "      <td>...</td>\n",
       "      <td>...</td>\n",
       "      <td>...</td>\n",
       "      <td>...</td>\n",
       "      <td>...</td>\n",
       "    </tr>\n",
       "    <tr>\n",
       "      <td>87</td>\n",
       "      <td>480</td>\n",
       "      <td>356</td>\n",
       "      <td>589</td>\n",
       "      <td>110</td>\n",
       "      <td>2571</td>\n",
       "    </tr>\n",
       "    <tr>\n",
       "      <td>88</td>\n",
       "      <td>356</td>\n",
       "      <td>318</td>\n",
       "      <td>296</td>\n",
       "      <td>593</td>\n",
       "      <td>480</td>\n",
       "    </tr>\n",
       "    <tr>\n",
       "      <td>89</td>\n",
       "      <td>296</td>\n",
       "      <td>1197</td>\n",
       "      <td>593</td>\n",
       "      <td>608</td>\n",
       "      <td>356</td>\n",
       "    </tr>\n",
       "    <tr>\n",
       "      <td>90</td>\n",
       "      <td>1198</td>\n",
       "      <td>1136</td>\n",
       "      <td>1197</td>\n",
       "      <td>858</td>\n",
       "      <td>50</td>\n",
       "    </tr>\n",
       "    <tr>\n",
       "      <td>91</td>\n",
       "      <td>588</td>\n",
       "      <td>595</td>\n",
       "      <td>4993</td>\n",
       "      <td>5952</td>\n",
       "      <td>2959</td>\n",
       "    </tr>\n",
       "  </tbody>\n",
       "</table>\n",
       "<p>91 rows × 5 columns</p>\n",
       "</div>"
      ],
      "text/plain": [
       "       1     2     3     4     5\n",
       "1    480   110   356   588   527\n",
       "2    356   780   593   318   457\n",
       "3    356   296   110   608    47\n",
       "4    296   590   110   593   260\n",
       "5    356  2571  2028  1197   296\n",
       "..   ...   ...   ...   ...   ...\n",
       "87   480   356   589   110  2571\n",
       "88   356   318   296   593   480\n",
       "89   296  1197   593   608   356\n",
       "90  1198  1136  1197   858    50\n",
       "91   588   595  4993  5952  2959\n",
       "\n",
       "[91 rows x 5 columns]"
      ]
     },
     "execution_count": 82,
     "metadata": {},
     "output_type": "execute_result"
    }
   ],
   "source": [
    "top5_recom"
   ]
  },
  {
   "cell_type": "code",
   "execution_count": null,
   "metadata": {},
   "outputs": [],
   "source": []
  }
 ],
 "metadata": {
  "kernelspec": {
   "display_name": "Python 3",
   "language": "python",
   "name": "python3"
  },
  "language_info": {
   "codemirror_mode": {
    "name": "ipython",
    "version": 3
   },
   "file_extension": ".py",
   "mimetype": "text/x-python",
   "name": "python",
   "nbconvert_exporter": "python",
   "pygments_lexer": "ipython3",
   "version": "3.7.4"
  }
 },
 "nbformat": 4,
 "nbformat_minor": 2
}
