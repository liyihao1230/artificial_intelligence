{
 "cells": [
  {
   "cell_type": "code",
   "execution_count": null,
   "metadata": {},
   "outputs": [],
   "source": [
    "import numpy as np\n",
    "import cv2\n",
    "from matplotlib import pyplot as plt\n",
    "from PIL import Image\n",
    "%matplotlib inline\n",
    "plt.rcParams['figure.figsize'] = (5.0, 4.0) "
   ]
  },
  {
   "cell_type": "code",
   "execution_count": null,
   "metadata": {},
   "outputs": [],
   "source": []
  },
  {
   "cell_type": "code",
   "execution_count": null,
   "metadata": {},
   "outputs": [],
   "source": [
    "# #1.1读取图片imread；展示图片imshow；导出图片imwrite\n",
    "# #只是灰度图片\n",
    "# img=cv2.imread('Myhero.jpg',cv2.IMREAD_GRAYSCALE)\n",
    "# #彩色图片\n",
    "# img=cv2.imread('Myhero.jpg',cv2.IMREAD_COLOR)\n",
    "# #彩色以及带有透明度\n",
    "# img=cv2.imread('Myhero.jpg',cv2.IMREAD_UNCHANGED)\n",
    "# print(img)\n",
    "# #设置窗口可自动调节大小\n",
    "# cv2.namedWindow('image',cv2.WINDOW_NORMAL)\n",
    "# cv2.imshow('image',img)"
   ]
  },
  {
   "cell_type": "code",
   "execution_count": null,
   "metadata": {},
   "outputs": [],
   "source": [
    "cap = cv2.VideoCapture(0) # 参数为0时调用本地摄像头；url连接调取网络摄像头；文件地址获取本地视频\n",
    "while(1):\n",
    "    ret,frame = cap.read()#读取每一帧\n",
    "    gray=cv2.cvtColor(frame,cv2.COLOR_BGR2GRAY)\n",
    "    # plt.imshow(frame)#显示每一帧\n",
    "    # cv2.imshow('摄像头',frame)#显示每一帧\n",
    "    if cv2.waitKey(1) & 0xFF == ord('q'):\n",
    "        cap.release()\n",
    "        cv2.destroyAllWindows()   \n",
    "        break\n",
    "    elif cv2.waitKey(1) & 0xFF==ord('s'):\n",
    "        #save picture and exit\n",
    "        cv2.imwrite('Myhero_out.png',img)\n",
    "        cv2.destroyAllWindows()"
   ]
  },
  {
   "cell_type": "code",
   "execution_count": null,
   "metadata": {},
   "outputs": [],
   "source": []
  },
  {
   "cell_type": "code",
   "execution_count": null,
   "metadata": {},
   "outputs": [],
   "source": []
  },
  {
   "cell_type": "code",
   "execution_count": null,
   "metadata": {},
   "outputs": [],
   "source": []
  },
  {
   "cell_type": "code",
   "execution_count": null,
   "metadata": {},
   "outputs": [],
   "source": []
  }
 ],
 "metadata": {
  "kernelspec": {
   "display_name": "Python 3",
   "language": "python",
   "name": "python3"
  },
  "language_info": {
   "codemirror_mode": {
    "name": "ipython",
    "version": 3
   },
   "file_extension": ".py",
   "mimetype": "text/x-python",
   "name": "python",
   "nbconvert_exporter": "python",
   "pygments_lexer": "ipython3",
   "version": "3.7.4"
  }
 },
 "nbformat": 4,
 "nbformat_minor": 2
}
